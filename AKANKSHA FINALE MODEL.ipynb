{
 "cells": [
  {
   "cell_type": "markdown",
   "metadata": {},
   "source": [
    "##### Problem statement is on Broadband Outage Detection ,where we need to create a machine learning model using the metrices tracked by the company that will be able to predict the `outage_duration` so that the company can better handle outages and improve customer satisfaction and therefore reduce customer churn.\n",
    "\n",
    "Metrices are :\n",
    "\n",
    "1)broadband_data( There are `10 different types` of broadbands that are observed in the dataset )\n",
    "\n",
    "2)outage_data(There are `5` different `outage_type`'s recorded in the dataset. )\n",
    "\n",
    "3)report_data(For each event `id` there are `log_report_type` and `volume` columns are recorded. )\n",
    "\n",
    "4)server_data(a record of the `transit_server_type` that is stored in the dataset ) \n",
    "\n",
    "5)train_data(which includes unique event id for each observation of the `outage_duration` in a particular `area_code` )\n",
    " "
   ]
  },
  {
   "cell_type": "markdown",
   "metadata": {},
   "source": [
    "#### SETTING THE DIRECTORY"
   ]
  },
  {
   "cell_type": "code",
   "execution_count": 1,
   "metadata": {},
   "outputs": [],
   "source": [
    "import os\n",
    "os.chdir(\"C:/Users/Akanksha Dash/Downloads/20200628_CSE9099c_PHD_Dataset-1593175193570/data\")"
   ]
  },
  {
   "cell_type": "markdown",
   "metadata": {},
   "source": [
    "#### IMPORTING LIBRARIES\n"
   ]
  },
  {
   "cell_type": "code",
   "execution_count": 2,
   "metadata": {},
   "outputs": [],
   "source": [
    "import pandas as pd\n",
    "import numpy as np\n",
    "\n",
    "from sklearn import preprocessing\n",
    "from scipy.stats.mstats import mode\n",
    "from sklearn.impute import SimpleImputer\n",
    "from sklearn.compose import ColumnTransformer\n",
    "from sklearn.preprocessing import LabelEncoder\n",
    "from sklearn.preprocessing import StandardScaler\n",
    "from sklearn.preprocessing import OneHotEncoder\n",
    "from sklearn.model_selection import train_test_split\n",
    "from sklearn.pipeline import Pipeline\n",
    "from sklearn.model_selection import GridSearchCV, RandomizedSearchCV\n",
    "\n",
    "from sklearn.svm import SVC\n",
    "from sklearn.linear_model import LogisticRegression\n",
    "from sklearn.naive_bayes import MultinomialNB,GaussianNB,ComplementNB,CategoricalNB\n",
    "from sklearn import tree\n",
    "from sklearn.metrics import confusion_matrix\n",
    "from sklearn import ensemble\n",
    "from sklearn.ensemble import AdaBoostClassifier\n",
    "from sklearn.ensemble import RandomForestClassifier\n",
    "from sklearn.neighbors import KNeighborsClassifier\n",
    "from xgboost import XGBClassifier\n",
    "from imblearn.over_sampling import SMOTE\n",
    "\n",
    "import matplotlib.pyplot as plt\n",
    "import seaborn as sns\n",
    "from sklearn.metrics import accuracy_score, recall_score, precision_score,classification_report\n",
    "\n",
    "import warnings\n",
    "warnings.filterwarnings('ignore')"
   ]
  },
  {
   "cell_type": "markdown",
   "metadata": {},
   "source": [
    "#### Reading the 5 CSV files"
   ]
  },
  {
   "cell_type": "code",
   "execution_count": 3,
   "metadata": {},
   "outputs": [],
   "source": [
    "#Reading the CSV file \n",
    "trdata = pd.read_csv(\"train_data.csv\", sep=',', header=0,\n",
    "                        na_values='unknown')\n",
    "srvdata=pd.read_csv(\"server_data.csv\", sep=',', header=0,\n",
    "                        na_values='unknown')\n",
    "repdata=pd.read_csv(\"report_data.csv\", sep=',', header=0,\n",
    "                        na_values='unknown')\n",
    "outdata=pd.read_csv(\"outage_data.csv\", sep=',', header=0,\n",
    "                        na_values='unknown')\n",
    "brddata=pd.read_csv(\"broadband_data.csv\", sep=',', header=0,\n",
    "                        na_values='unknown')"
   ]
  },
  {
   "cell_type": "code",
   "execution_count": 4,
   "metadata": {},
   "outputs": [
    {
     "name": "stdout",
     "output_type": "stream",
     "text": [
      "      id area_code  outage_duration\n",
      "0  13366  area_415                1\n",
      "1   6783  area_474                0\n",
      "2   9519  area_931                1\n",
      "(5904, 3)\n"
     ]
    }
   ],
   "source": [
    "print(trdata.head(3))\n",
    "print(trdata.shape)"
   ]
  },
  {
   "cell_type": "code",
   "execution_count": 5,
   "metadata": {},
   "outputs": [
    {
     "name": "stdout",
     "output_type": "stream",
     "text": [
      "     id     transit_server_type\n",
      "0  6597  transit_server_type_11\n",
      "1  8011  transit_server_type_15\n",
      "2  2597  transit_server_type_15\n",
      "(31170, 2)\n"
     ]
    }
   ],
   "source": [
    "print(srvdata.head(3))\n",
    "print(srvdata.shape)"
   ]
  },
  {
   "cell_type": "code",
   "execution_count": 6,
   "metadata": {},
   "outputs": [
    {
     "name": "stdout",
     "output_type": "stream",
     "text": [
      "     id     log_report_type  volume\n",
      "0  6597  log_report_type_68       6\n",
      "1  8011  log_report_type_68       7\n",
      "2  2597  log_report_type_68       1\n",
      "(58671, 3)\n"
     ]
    }
   ],
   "source": [
    "print(repdata.head(3))\n",
    "print(repdata.shape)"
   ]
  },
  {
   "cell_type": "code",
   "execution_count": 7,
   "metadata": {},
   "outputs": [
    {
     "name": "stdout",
     "output_type": "stream",
     "text": [
      "     id    outage_type\n",
      "0  6597  outage_type_2\n",
      "1  8011  outage_type_2\n",
      "2  2597  outage_type_2\n",
      "(18552, 2)\n"
     ]
    }
   ],
   "source": [
    "print(outdata.head(3))\n",
    "print(outdata.shape)"
   ]
  },
  {
   "cell_type": "code",
   "execution_count": 8,
   "metadata": {},
   "outputs": [
    {
     "name": "stdout",
     "output_type": "stream",
     "text": [
      "     id    broadband_type\n",
      "0  6597  broadband_type_8\n",
      "1  8011  broadband_type_8\n",
      "2  2597  broadband_type_8\n",
      "(21076, 2)\n"
     ]
    }
   ],
   "source": [
    "print(brddata.head(3))\n",
    "print(brddata.shape)"
   ]
  },
  {
   "cell_type": "markdown",
   "metadata": {},
   "source": [
    "#### MERGING THE DATAS"
   ]
  },
  {
   "cell_type": "code",
   "execution_count": 9,
   "metadata": {},
   "outputs": [],
   "source": [
    "#MERGING THE DATA TO WORK ON\n",
    "train_1 = trdata.merge(brddata, how = 'left', left_on='id', right_on='id')\n",
    "train_2 = train_1.merge(outdata, how = 'left', left_on='id', right_on='id')\n",
    "train_3 = train_2.merge(repdata, how = 'left', left_on='id', right_on='id')\n",
    "traindata = train_3.merge(srvdata, how = 'left', left_on='id', right_on='id')\n"
   ]
  },
  {
   "cell_type": "code",
   "execution_count": 10,
   "metadata": {},
   "outputs": [
    {
     "data": {
      "text/plain": [
       "(6754, 4)"
      ]
     },
     "execution_count": 10,
     "metadata": {},
     "output_type": "execute_result"
    }
   ],
   "source": [
    "#1st merge shape\n",
    "train_1.shape"
   ]
  },
  {
   "cell_type": "code",
   "execution_count": 11,
   "metadata": {},
   "outputs": [
    {
     "data": {
      "text/plain": [
       "(6754, 5)"
      ]
     },
     "execution_count": 11,
     "metadata": {},
     "output_type": "execute_result"
    }
   ],
   "source": [
    "#2nd merge shape\n",
    "train_2.shape"
   ]
  },
  {
   "cell_type": "code",
   "execution_count": 12,
   "metadata": {},
   "outputs": [
    {
     "data": {
      "text/plain": [
       "(22679, 7)"
      ]
     },
     "execution_count": 12,
     "metadata": {},
     "output_type": "execute_result"
    }
   ],
   "source": [
    "#3rd merge shape\n",
    "train_3.shape"
   ]
  },
  {
   "cell_type": "code",
   "execution_count": 13,
   "metadata": {},
   "outputs": [
    {
     "name": "stdout",
     "output_type": "stream",
     "text": [
      "Shape of merged Data set :\n",
      "\n",
      " (48973, 8) \n",
      "\n"
     ]
    }
   ],
   "source": [
    "print(\"Shape of merged Data set :\\n\\n\",traindata.shape,\"\\n\")"
   ]
  },
  {
   "cell_type": "markdown",
   "metadata": {},
   "source": [
    "#### REMOVING THE DUPLICATES "
   ]
  },
  {
   "cell_type": "code",
   "execution_count": 14,
   "metadata": {},
   "outputs": [],
   "source": [
    "traindata.drop_duplicates(subset= 'id', keep= 'first', inplace = True)"
   ]
  },
  {
   "cell_type": "code",
   "execution_count": 15,
   "metadata": {},
   "outputs": [
    {
     "name": "stdout",
     "output_type": "stream",
     "text": [
      "Shape of Data set after removing duplicates:\n",
      "\n",
      " (5904, 8) \n",
      "\n"
     ]
    }
   ],
   "source": [
    "print(\"Shape of Data set after removing duplicates:\\n\\n\",traindata.shape,\"\\n\")"
   ]
  },
  {
   "cell_type": "code",
   "execution_count": 16,
   "metadata": {},
   "outputs": [],
   "source": [
    "#Creating a copy \n",
    "train_data=traindata.copy()"
   ]
  },
  {
   "cell_type": "markdown",
   "metadata": {},
   "source": [
    "#### EDA"
   ]
  },
  {
   "cell_type": "code",
   "execution_count": 17,
   "metadata": {},
   "outputs": [
    {
     "name": "stdout",
     "output_type": "stream",
     "text": [
      "Dimension of our final Dataset :\n",
      "\n",
      " (5904, 8) \n",
      "\n"
     ]
    }
   ],
   "source": [
    "print(\"Dimension of our final Dataset :\\n\\n\",train_data.shape,\"\\n\")"
   ]
  },
  {
   "cell_type": "markdown",
   "metadata": {},
   "source": [
    "As shape tells us the dimension, we have 5904 rows and 8 columns . Also checking the dimension after creating a copy"
   ]
  },
  {
   "cell_type": "code",
   "execution_count": 18,
   "metadata": {},
   "outputs": [
    {
     "name": "stdout",
     "output_type": "stream",
     "text": [
      "['id', 'area_code', 'outage_duration', 'broadband_type', 'outage_type', 'log_report_type', 'volume', 'transit_server_type']\n"
     ]
    }
   ],
   "source": [
    "# Let's check the names of the columns?\n",
    "print(list(train_data.columns))"
   ]
  },
  {
   "cell_type": "code",
   "execution_count": 19,
   "metadata": {},
   "outputs": [
    {
     "data": {
      "text/plain": [
       "Index(['id', 'area_code', 'outage_duration', 'broadband_type', 'outage_type',\n",
       "       'log_report_type', 'volume', 'transit_server_type'],\n",
       "      dtype='object')"
      ]
     },
     "execution_count": 19,
     "metadata": {},
     "output_type": "execute_result"
    }
   ],
   "source": [
    "train_data.columns"
   ]
  },
  {
   "cell_type": "code",
   "execution_count": 20,
   "metadata": {},
   "outputs": [
    {
     "data": {
      "text/plain": [
       "id                      int64\n",
       "area_code              object\n",
       "outage_duration         int64\n",
       "broadband_type         object\n",
       "outage_type            object\n",
       "log_report_type        object\n",
       "volume                  int64\n",
       "transit_server_type    object\n",
       "dtype: object"
      ]
     },
     "execution_count": 20,
     "metadata": {},
     "output_type": "execute_result"
    }
   ],
   "source": [
    "#Displays the types of data we have in train dataset\n",
    "train_data.dtypes"
   ]
  },
  {
   "cell_type": "code",
   "execution_count": 21,
   "metadata": {},
   "outputs": [
    {
     "name": "stdout",
     "output_type": "stream",
     "text": [
      "<class 'pandas.core.frame.DataFrame'>\n",
      "Int64Index: 5904 entries, 0 to 48971\n",
      "Data columns (total 8 columns):\n",
      "id                     5904 non-null int64\n",
      "area_code              5904 non-null object\n",
      "outage_duration        5904 non-null int64\n",
      "broadband_type         5904 non-null object\n",
      "outage_type            5904 non-null object\n",
      "log_report_type        5904 non-null object\n",
      "volume                 5904 non-null int64\n",
      "transit_server_type    5904 non-null object\n",
      "dtypes: int64(3), object(5)\n",
      "memory usage: 415.1+ KB\n"
     ]
    }
   ],
   "source": [
    "#Displays each of the column along with its type and the memory used by the data\n",
    "train_data.info()"
   ]
  },
  {
   "cell_type": "code",
   "execution_count": 22,
   "metadata": {},
   "outputs": [
    {
     "data": {
      "text/html": [
       "<div>\n",
       "<style scoped>\n",
       "    .dataframe tbody tr th:only-of-type {\n",
       "        vertical-align: middle;\n",
       "    }\n",
       "\n",
       "    .dataframe tbody tr th {\n",
       "        vertical-align: top;\n",
       "    }\n",
       "\n",
       "    .dataframe thead th {\n",
       "        text-align: right;\n",
       "    }\n",
       "</style>\n",
       "<table border=\"1\" class=\"dataframe\">\n",
       "  <thead>\n",
       "    <tr style=\"text-align: right;\">\n",
       "      <th></th>\n",
       "      <th>id</th>\n",
       "      <th>outage_duration</th>\n",
       "      <th>volume</th>\n",
       "    </tr>\n",
       "  </thead>\n",
       "  <tbody>\n",
       "    <tr>\n",
       "      <td>count</td>\n",
       "      <td>5904.000000</td>\n",
       "      <td>5904.000000</td>\n",
       "      <td>5904.000000</td>\n",
       "    </tr>\n",
       "    <tr>\n",
       "      <td>mean</td>\n",
       "      <td>9323.841972</td>\n",
       "      <td>0.450203</td>\n",
       "      <td>8.528455</td>\n",
       "    </tr>\n",
       "    <tr>\n",
       "      <td>std</td>\n",
       "      <td>5338.654942</td>\n",
       "      <td>0.666642</td>\n",
       "      <td>22.752851</td>\n",
       "    </tr>\n",
       "    <tr>\n",
       "      <td>min</td>\n",
       "      <td>1.000000</td>\n",
       "      <td>0.000000</td>\n",
       "      <td>1.000000</td>\n",
       "    </tr>\n",
       "    <tr>\n",
       "      <td>25%</td>\n",
       "      <td>4763.500000</td>\n",
       "      <td>0.000000</td>\n",
       "      <td>1.000000</td>\n",
       "    </tr>\n",
       "    <tr>\n",
       "      <td>50%</td>\n",
       "      <td>9330.500000</td>\n",
       "      <td>0.000000</td>\n",
       "      <td>2.000000</td>\n",
       "    </tr>\n",
       "    <tr>\n",
       "      <td>75%</td>\n",
       "      <td>13932.750000</td>\n",
       "      <td>1.000000</td>\n",
       "      <td>7.000000</td>\n",
       "    </tr>\n",
       "    <tr>\n",
       "      <td>max</td>\n",
       "      <td>18550.000000</td>\n",
       "      <td>2.000000</td>\n",
       "      <td>636.000000</td>\n",
       "    </tr>\n",
       "  </tbody>\n",
       "</table>\n",
       "</div>"
      ],
      "text/plain": [
       "                 id  outage_duration       volume\n",
       "count   5904.000000      5904.000000  5904.000000\n",
       "mean    9323.841972         0.450203     8.528455\n",
       "std     5338.654942         0.666642    22.752851\n",
       "min        1.000000         0.000000     1.000000\n",
       "25%     4763.500000         0.000000     1.000000\n",
       "50%     9330.500000         0.000000     2.000000\n",
       "75%    13932.750000         1.000000     7.000000\n",
       "max    18550.000000         2.000000   636.000000"
      ]
     },
     "execution_count": 22,
     "metadata": {},
     "output_type": "execute_result"
    }
   ],
   "source": [
    "#Displays stastical information about each of the columns eg. count, frequency of occurance of a value etc\n",
    "train_data.describe()  #Numerical"
   ]
  },
  {
   "cell_type": "code",
   "execution_count": 23,
   "metadata": {},
   "outputs": [
    {
     "data": {
      "text/html": [
       "<div>\n",
       "<style scoped>\n",
       "    .dataframe tbody tr th:only-of-type {\n",
       "        vertical-align: middle;\n",
       "    }\n",
       "\n",
       "    .dataframe tbody tr th {\n",
       "        vertical-align: top;\n",
       "    }\n",
       "\n",
       "    .dataframe thead th {\n",
       "        text-align: right;\n",
       "    }\n",
       "</style>\n",
       "<table border=\"1\" class=\"dataframe\">\n",
       "  <thead>\n",
       "    <tr style=\"text-align: right;\">\n",
       "      <th></th>\n",
       "      <th>id</th>\n",
       "      <th>area_code</th>\n",
       "      <th>outage_duration</th>\n",
       "      <th>broadband_type</th>\n",
       "      <th>outage_type</th>\n",
       "      <th>log_report_type</th>\n",
       "      <th>volume</th>\n",
       "      <th>transit_server_type</th>\n",
       "    </tr>\n",
       "  </thead>\n",
       "  <tbody>\n",
       "    <tr>\n",
       "      <td>count</td>\n",
       "      <td>5904.000000</td>\n",
       "      <td>5904</td>\n",
       "      <td>5904.000000</td>\n",
       "      <td>5904</td>\n",
       "      <td>5904</td>\n",
       "      <td>5904</td>\n",
       "      <td>5904.000000</td>\n",
       "      <td>5904</td>\n",
       "    </tr>\n",
       "    <tr>\n",
       "      <td>unique</td>\n",
       "      <td>NaN</td>\n",
       "      <td>876</td>\n",
       "      <td>NaN</td>\n",
       "      <td>9</td>\n",
       "      <td>5</td>\n",
       "      <td>213</td>\n",
       "      <td>NaN</td>\n",
       "      <td>44</td>\n",
       "    </tr>\n",
       "    <tr>\n",
       "      <td>top</td>\n",
       "      <td>NaN</td>\n",
       "      <td>area_821</td>\n",
       "      <td>NaN</td>\n",
       "      <td>broadband_type_8</td>\n",
       "      <td>outage_type_2</td>\n",
       "      <td>log_report_type_312</td>\n",
       "      <td>NaN</td>\n",
       "      <td>transit_server_type_11</td>\n",
       "    </tr>\n",
       "    <tr>\n",
       "      <td>freq</td>\n",
       "      <td>NaN</td>\n",
       "      <td>67</td>\n",
       "      <td>NaN</td>\n",
       "      <td>2882</td>\n",
       "      <td>2875</td>\n",
       "      <td>580</td>\n",
       "      <td>NaN</td>\n",
       "      <td>1820</td>\n",
       "    </tr>\n",
       "    <tr>\n",
       "      <td>mean</td>\n",
       "      <td>9323.841972</td>\n",
       "      <td>NaN</td>\n",
       "      <td>0.450203</td>\n",
       "      <td>NaN</td>\n",
       "      <td>NaN</td>\n",
       "      <td>NaN</td>\n",
       "      <td>8.528455</td>\n",
       "      <td>NaN</td>\n",
       "    </tr>\n",
       "    <tr>\n",
       "      <td>std</td>\n",
       "      <td>5338.654942</td>\n",
       "      <td>NaN</td>\n",
       "      <td>0.666642</td>\n",
       "      <td>NaN</td>\n",
       "      <td>NaN</td>\n",
       "      <td>NaN</td>\n",
       "      <td>22.752851</td>\n",
       "      <td>NaN</td>\n",
       "    </tr>\n",
       "    <tr>\n",
       "      <td>min</td>\n",
       "      <td>1.000000</td>\n",
       "      <td>NaN</td>\n",
       "      <td>0.000000</td>\n",
       "      <td>NaN</td>\n",
       "      <td>NaN</td>\n",
       "      <td>NaN</td>\n",
       "      <td>1.000000</td>\n",
       "      <td>NaN</td>\n",
       "    </tr>\n",
       "    <tr>\n",
       "      <td>25%</td>\n",
       "      <td>4763.500000</td>\n",
       "      <td>NaN</td>\n",
       "      <td>0.000000</td>\n",
       "      <td>NaN</td>\n",
       "      <td>NaN</td>\n",
       "      <td>NaN</td>\n",
       "      <td>1.000000</td>\n",
       "      <td>NaN</td>\n",
       "    </tr>\n",
       "    <tr>\n",
       "      <td>50%</td>\n",
       "      <td>9330.500000</td>\n",
       "      <td>NaN</td>\n",
       "      <td>0.000000</td>\n",
       "      <td>NaN</td>\n",
       "      <td>NaN</td>\n",
       "      <td>NaN</td>\n",
       "      <td>2.000000</td>\n",
       "      <td>NaN</td>\n",
       "    </tr>\n",
       "    <tr>\n",
       "      <td>75%</td>\n",
       "      <td>13932.750000</td>\n",
       "      <td>NaN</td>\n",
       "      <td>1.000000</td>\n",
       "      <td>NaN</td>\n",
       "      <td>NaN</td>\n",
       "      <td>NaN</td>\n",
       "      <td>7.000000</td>\n",
       "      <td>NaN</td>\n",
       "    </tr>\n",
       "    <tr>\n",
       "      <td>max</td>\n",
       "      <td>18550.000000</td>\n",
       "      <td>NaN</td>\n",
       "      <td>2.000000</td>\n",
       "      <td>NaN</td>\n",
       "      <td>NaN</td>\n",
       "      <td>NaN</td>\n",
       "      <td>636.000000</td>\n",
       "      <td>NaN</td>\n",
       "    </tr>\n",
       "  </tbody>\n",
       "</table>\n",
       "</div>"
      ],
      "text/plain": [
       "                  id area_code  outage_duration    broadband_type  \\\n",
       "count    5904.000000      5904      5904.000000              5904   \n",
       "unique           NaN       876              NaN                 9   \n",
       "top              NaN  area_821              NaN  broadband_type_8   \n",
       "freq             NaN        67              NaN              2882   \n",
       "mean     9323.841972       NaN         0.450203               NaN   \n",
       "std      5338.654942       NaN         0.666642               NaN   \n",
       "min         1.000000       NaN         0.000000               NaN   \n",
       "25%      4763.500000       NaN         0.000000               NaN   \n",
       "50%      9330.500000       NaN         0.000000               NaN   \n",
       "75%     13932.750000       NaN         1.000000               NaN   \n",
       "max     18550.000000       NaN         2.000000               NaN   \n",
       "\n",
       "          outage_type      log_report_type       volume  \\\n",
       "count            5904                 5904  5904.000000   \n",
       "unique              5                  213          NaN   \n",
       "top     outage_type_2  log_report_type_312          NaN   \n",
       "freq             2875                  580          NaN   \n",
       "mean              NaN                  NaN     8.528455   \n",
       "std               NaN                  NaN    22.752851   \n",
       "min               NaN                  NaN     1.000000   \n",
       "25%               NaN                  NaN     1.000000   \n",
       "50%               NaN                  NaN     2.000000   \n",
       "75%               NaN                  NaN     7.000000   \n",
       "max               NaN                  NaN   636.000000   \n",
       "\n",
       "           transit_server_type  \n",
       "count                     5904  \n",
       "unique                      44  \n",
       "top     transit_server_type_11  \n",
       "freq                      1820  \n",
       "mean                       NaN  \n",
       "std                        NaN  \n",
       "min                        NaN  \n",
       "25%                        NaN  \n",
       "50%                        NaN  \n",
       "75%                        NaN  \n",
       "max                        NaN  "
      ]
     },
     "execution_count": 23,
     "metadata": {},
     "output_type": "execute_result"
    }
   ],
   "source": [
    "train_data.describe(include = \"all\") #to include both numerical and categorical"
   ]
  },
  {
   "cell_type": "code",
   "execution_count": 24,
   "metadata": {},
   "outputs": [
    {
     "data": {
      "text/html": [
       "<div>\n",
       "<style scoped>\n",
       "    .dataframe tbody tr th:only-of-type {\n",
       "        vertical-align: middle;\n",
       "    }\n",
       "\n",
       "    .dataframe tbody tr th {\n",
       "        vertical-align: top;\n",
       "    }\n",
       "\n",
       "    .dataframe thead th {\n",
       "        text-align: right;\n",
       "    }\n",
       "</style>\n",
       "<table border=\"1\" class=\"dataframe\">\n",
       "  <thead>\n",
       "    <tr style=\"text-align: right;\">\n",
       "      <th></th>\n",
       "      <th>Total</th>\n",
       "      <th>Percent</th>\n",
       "    </tr>\n",
       "  </thead>\n",
       "  <tbody>\n",
       "    <tr>\n",
       "      <td>transit_server_type</td>\n",
       "      <td>0</td>\n",
       "      <td>0.0</td>\n",
       "    </tr>\n",
       "    <tr>\n",
       "      <td>volume</td>\n",
       "      <td>0</td>\n",
       "      <td>0.0</td>\n",
       "    </tr>\n",
       "    <tr>\n",
       "      <td>log_report_type</td>\n",
       "      <td>0</td>\n",
       "      <td>0.0</td>\n",
       "    </tr>\n",
       "    <tr>\n",
       "      <td>outage_type</td>\n",
       "      <td>0</td>\n",
       "      <td>0.0</td>\n",
       "    </tr>\n",
       "    <tr>\n",
       "      <td>broadband_type</td>\n",
       "      <td>0</td>\n",
       "      <td>0.0</td>\n",
       "    </tr>\n",
       "    <tr>\n",
       "      <td>outage_duration</td>\n",
       "      <td>0</td>\n",
       "      <td>0.0</td>\n",
       "    </tr>\n",
       "    <tr>\n",
       "      <td>area_code</td>\n",
       "      <td>0</td>\n",
       "      <td>0.0</td>\n",
       "    </tr>\n",
       "    <tr>\n",
       "      <td>id</td>\n",
       "      <td>0</td>\n",
       "      <td>0.0</td>\n",
       "    </tr>\n",
       "  </tbody>\n",
       "</table>\n",
       "</div>"
      ],
      "text/plain": [
       "                     Total  Percent\n",
       "transit_server_type      0      0.0\n",
       "volume                   0      0.0\n",
       "log_report_type          0      0.0\n",
       "outage_type              0      0.0\n",
       "broadband_type           0      0.0\n",
       "outage_duration          0      0.0\n",
       "area_code                0      0.0\n",
       "id                       0      0.0"
      ]
     },
     "execution_count": 24,
     "metadata": {},
     "output_type": "execute_result"
    }
   ],
   "source": [
    "#Checking Null values\n",
    "total = train_data.isnull().sum().sort_values(ascending=False)\n",
    "percent = (train_data.isnull().sum()/train_data.isnull().count()).sort_values(ascending=False)\n",
    "missing_data = pd.concat([total, percent], axis=1, keys=['Total', 'Percent'])\n",
    "missing_data.head(10)"
   ]
  },
  {
   "cell_type": "markdown",
   "metadata": {},
   "source": [
    "#### Distribution of Target variable"
   ]
  },
  {
   "cell_type": "code",
   "execution_count": 25,
   "metadata": {},
   "outputs": [
    {
     "data": {
      "text/plain": [
       "0    3827\n",
       "1    1496\n",
       "2     581\n",
       "Name: outage_duration, dtype: int64"
      ]
     },
     "execution_count": 25,
     "metadata": {},
     "output_type": "execute_result"
    }
   ],
   "source": [
    "train_data.outage_duration.value_counts()"
   ]
  },
  {
   "cell_type": "code",
   "execution_count": 26,
   "metadata": {},
   "outputs": [
    {
     "data": {
      "image/png": "[encoded data removed]",
      "text/plain": [
       "<Figure size 432x288 with 1 Axes>"
      ]
     },
     "metadata": {
      "needs_background": "light"
     },
     "output_type": "display_data"
    },
    {
     "name": "stdout",
     "output_type": "stream",
     "text": [
      "0    3827\n",
      "1    1496\n",
      "2     581\n",
      "Name: outage_duration, dtype: int64\n"
     ]
    }
   ],
   "source": [
    "# Plot Distribution\n",
    "sns.countplot(x='outage_duration',data=train_data)\n",
    "plt.show()\n",
    "\n",
    "# What are the counts?\n",
    "print(train_data.outage_duration.value_counts())\n",
    "\n"
   ]
  },
  {
   "cell_type": "markdown",
   "metadata": {},
   "source": [
    "DRAWING TRENDS TOWARDS TARGET VARIABLE "
   ]
  },
  {
   "cell_type": "code",
   "execution_count": 27,
   "metadata": {},
   "outputs": [
    {
     "data": {
      "text/plain": [
       "0    64.820461\n",
       "1    25.338753\n",
       "2     9.840786\n",
       "Name: outage_duration, dtype: float64"
      ]
     },
     "execution_count": 27,
     "metadata": {},
     "output_type": "execute_result"
    }
   ],
   "source": [
    "train_data.outage_duration.value_counts(normalize = True)*100"
   ]
  },
  {
   "cell_type": "code",
   "execution_count": 28,
   "metadata": {},
   "outputs": [
    {
     "data": {
      "text/plain": [
       "0    0.648205\n",
       "1    0.253388\n",
       "2    0.098408\n",
       "Name: outage_duration, dtype: float64"
      ]
     },
     "execution_count": 28,
     "metadata": {},
     "output_type": "execute_result"
    }
   ],
   "source": [
    "train_data.outage_duration.value_counts(normalize = True,dropna = False)"
   ]
  },
  {
   "cell_type": "markdown",
   "metadata": {},
   "source": [
    " Understanding the distribution of other variables"
   ]
  },
  {
   "cell_type": "code",
   "execution_count": 29,
   "metadata": {},
   "outputs": [
    {
     "data": {
      "text/plain": [
       "area_821     67\n",
       "area_1107    61\n",
       "area_126     59\n",
       "area_734     57\n",
       "area_1008    57\n",
       "             ..\n",
       "area_213      1\n",
       "area_483      1\n",
       "area_968      1\n",
       "area_941      1\n",
       "area_436      1\n",
       "Name: area_code, Length: 876, dtype: int64"
      ]
     },
     "execution_count": 29,
     "metadata": {},
     "output_type": "execute_result"
    }
   ],
   "source": [
    "train_data.area_code.value_counts() "
   ]
  },
  {
   "cell_type": "code",
   "execution_count": 30,
   "metadata": {},
   "outputs": [
    {
     "data": {
      "text/plain": [
       "transit_server_type_11    1820\n",
       "transit_server_type_35    1106\n",
       "transit_server_type_15     993\n",
       "transit_server_type_34     984\n",
       "transit_server_type_20     275\n",
       "transit_server_type_13     107\n",
       "transit_server_type_54     106\n",
       "transit_server_type_23      75\n",
       "transit_server_type_42      58\n",
       "transit_server_type_44      56\n",
       "transit_server_type_14      42\n",
       "transit_server_type_22      32\n",
       "transit_server_type_21      31\n",
       "transit_server_type_43      27\n",
       "transit_server_type_10      26\n",
       "transit_server_type_50      21\n",
       "transit_server_type_18      15\n",
       "transit_server_type_30      14\n",
       "transit_server_type_24      13\n",
       "transit_server_type_32      12\n",
       "transit_server_type_47      11\n",
       "transit_server_type_26       9\n",
       "transit_server_type_40       7\n",
       "transit_server_type_29       6\n",
       "transit_server_type_46       6\n",
       "transit_server_type_27       5\n",
       "transit_server_type_2        5\n",
       "transit_server_type_38       5\n",
       "transit_server_type_5        5\n",
       "transit_server_type_7        5\n",
       "transit_server_type_6        4\n",
       "transit_server_type_8        3\n",
       "transit_server_type_31       3\n",
       "transit_server_type_45       3\n",
       "transit_server_type_28       3\n",
       "transit_server_type_51       2\n",
       "transit_server_type_39       2\n",
       "transit_server_type_49       1\n",
       "transit_server_type_3        1\n",
       "transit_server_type_36       1\n",
       "transit_server_type_9        1\n",
       "transit_server_type_25       1\n",
       "transit_server_type_48       1\n",
       "transit_server_type_12       1\n",
       "Name: transit_server_type, dtype: int64"
      ]
     },
     "execution_count": 30,
     "metadata": {},
     "output_type": "execute_result"
    }
   ],
   "source": [
    "train_data.transit_server_type.value_counts() "
   ]
  },
  {
   "cell_type": "code",
   "execution_count": 31,
   "metadata": {},
   "outputs": [
    {
     "name": "stdout",
     "output_type": "stream",
     "text": [
      "outage_type_2    2875\n",
      "outage_type_1    2700\n",
      "outage_type_4     306\n",
      "outage_type_5      19\n",
      "outage_type_3       4\n",
      "Name: outage_type, dtype: int64\n"
     ]
    }
   ],
   "source": [
    "print(train_data.outage_type.value_counts())"
   ]
  },
  {
   "cell_type": "code",
   "execution_count": 32,
   "metadata": {},
   "outputs": [
    {
     "data": {
      "text/plain": [
       "log_report_type_312    580\n",
       "log_report_type_82     495\n",
       "log_report_type_232    463\n",
       "log_report_type_203    308\n",
       "log_report_type_54     235\n",
       "                      ... \n",
       "log_report_type_224      1\n",
       "log_report_type_292      1\n",
       "log_report_type_65       1\n",
       "log_report_type_353      1\n",
       "log_report_type_49       1\n",
       "Name: log_report_type, Length: 213, dtype: int64"
      ]
     },
     "execution_count": 32,
     "metadata": {},
     "output_type": "execute_result"
    }
   ],
   "source": [
    "train_data.log_report_type.value_counts() "
   ]
  },
  {
   "cell_type": "code",
   "execution_count": 33,
   "metadata": {},
   "outputs": [
    {
     "name": "stdout",
     "output_type": "stream",
     "text": [
      "                  id  outage_duration\n",
      "volume                               \n",
      "1        9384.400913         0.410502\n",
      "2        9439.679449         0.424779\n",
      "3        9066.563510         0.360277\n",
      "4        9828.411594         0.510145\n",
      "5        8885.803922         0.426471\n",
      "...              ...              ...\n",
      "283      9115.000000         0.000000\n",
      "312       812.000000         0.000000\n",
      "334      5558.000000         0.000000\n",
      "451     17078.000000         0.000000\n",
      "636      1456.000000         0.000000\n",
      "\n",
      "[139 rows x 2 columns]\n"
     ]
    }
   ],
   "source": [
    "print(train_data.groupby('volume').mean())"
   ]
  },
  {
   "cell_type": "markdown",
   "metadata": {},
   "source": [
    "### DATA VISUALISATION"
   ]
  },
  {
   "cell_type": "code",
   "execution_count": 34,
   "metadata": {},
   "outputs": [
    {
     "data": {
      "image/png": "[encoded data removed]",
      "text/plain": [
       "<Figure size 720x360 with 1 Axes>"
      ]
     },
     "metadata": {
      "needs_background": "light"
     },
     "output_type": "display_data"
    }
   ],
   "source": [
    "## COUNT PLOT FOR OUTAGE TYPE\n",
    "\n",
    "plt.figure(figsize = (10,5))\n",
    "sns.countplot(train_data['outage_type'])\n",
    "plt.show()"
   ]
  },
  {
   "cell_type": "code",
   "execution_count": 35,
   "metadata": {},
   "outputs": [
    {
     "data": {
      "image/png": "[encoded data removed]",
      "text/plain": [
       "<Figure size 1008x288 with 1 Axes>"
      ]
     },
     "metadata": {
      "needs_background": "light"
     },
     "output_type": "display_data"
    }
   ],
   "source": [
    "#count plot for Broadband type\n",
    "\n",
    "plt.figure(figsize = (14,4))\n",
    "sns.countplot(train_data['broadband_type'])\n",
    "plt.tight_layout()\n",
    "plt.show()"
   ]
  },
  {
   "cell_type": "code",
   "execution_count": 36,
   "metadata": {},
   "outputs": [
    {
     "data": {
      "image/png": "[encoded data removed]",
      "text/plain": [
       "<Figure size 873.125x792 with 1 Axes>"
      ]
     },
     "metadata": {},
     "output_type": "display_data"
    }
   ],
   "source": [
    "#cat plot for outage type w.r.t outage_duration\n",
    "sns.set_style(\"ticks\")\n",
    "sns.catplot(x=\"outage_type\", hue=\"outage_duration\", kind=\"count\",height=11,\n",
    "            palette=\"colorblind\", edgecolor=\".44\",\n",
    "            data=train_data);"
   ]
  },
  {
   "cell_type": "code",
   "execution_count": 37,
   "metadata": {},
   "outputs": [
    {
     "data": {
      "image/png": "[encoded data removed]",
      "text/plain": [
       "<Figure size 792x792 with 1 Axes>"
      ]
     },
     "metadata": {},
     "output_type": "display_data"
    }
   ],
   "source": [
    "#catplot for outage_type\n",
    "sns.catplot(x=\"outage_type\", kind=\"count\", palette=\"ch:.25\",height=11, data=train_data);"
   ]
  },
  {
   "cell_type": "code",
   "execution_count": 38,
   "metadata": {},
   "outputs": [
    {
     "data": {
      "image/png": "[encoded data removed]",
      "text/plain": [
       "<Figure size 2520x360 with 2 Axes>"
      ]
     },
     "metadata": {},
     "output_type": "display_data"
    }
   ],
   "source": [
    "#plotting the correlation matrix\n",
    "plt.style.use('seaborn-dark')\n",
    "plt.figure(figsize =(35,5))\n",
    "sns.heatmap(train_data.corr(),vmax = 1,linewidths= 1,square= True, \n",
    "           annot= True, cmap='icefire', linecolor= 'white')\n",
    "\n",
    "plt.title('Correlation Matrix', fontsize =12)\n",
    "plt.show()"
   ]
  },
  {
   "cell_type": "markdown",
   "metadata": {},
   "source": [
    "This plot only shows the correlation between the numeric columns. To see the complete correlation matrix we would have to convert the categorical columns to ints using label encoding etc and then visualize the correlation matrix again. "
   ]
  },
  {
   "cell_type": "markdown",
   "metadata": {},
   "source": [
    "##### Answering questions from the operations team: "
   ]
  },
  {
   "cell_type": "markdown",
   "metadata": {},
   "source": [
    "The operations team at ‘India Broadband’ has asked you the following questions \n",
    " \n",
    "1) Which areas are most prone to long outage durations? \n",
    "\n",
    "2) Which broadband types are suspect of long outage durations? \n",
    "\n",
    "3) Any other recommendations to improve the detection of outage durations. "
   ]
  },
  {
   "cell_type": "markdown",
   "metadata": {},
   "source": [
    " ANSWER TO THE FIRST QUESTION i.e Which areas are most prone to long outage durations? "
   ]
  },
  {
   "cell_type": "code",
   "execution_count": 39,
   "metadata": {},
   "outputs": [],
   "source": [
    "#approach 1\n",
    "long_outage = train_data.loc[train_data.outage_duration==2,'area_code'].value_counts()"
   ]
  },
  {
   "cell_type": "code",
   "execution_count": 40,
   "metadata": {},
   "outputs": [
    {
     "data": {
      "text/plain": [
       "area_1100    28\n",
       "area_1107    27\n",
       "area_600     27\n",
       "area_821     24\n",
       "area_734     23\n",
       "             ..\n",
       "area_738      1\n",
       "area_1103     1\n",
       "area_559      1\n",
       "area_32       1\n",
       "area_551      1\n",
       "Name: area_code, Length: 135, dtype: int64"
      ]
     },
     "execution_count": 40,
     "metadata": {},
     "output_type": "execute_result"
    }
   ],
   "source": [
    "long_outage"
   ]
  },
  {
   "cell_type": "code",
   "execution_count": 41,
   "metadata": {},
   "outputs": [],
   "source": [
    "prone= train_data['outage_duration']==2"
   ]
  },
  {
   "cell_type": "code",
   "execution_count": 42,
   "metadata": {},
   "outputs": [],
   "source": [
    "prone= train_data[prone]"
   ]
  },
  {
   "cell_type": "code",
   "execution_count": 43,
   "metadata": {},
   "outputs": [
    {
     "data": {
      "text/html": [
       "<div>\n",
       "<style scoped>\n",
       "    .dataframe tbody tr th:only-of-type {\n",
       "        vertical-align: middle;\n",
       "    }\n",
       "\n",
       "    .dataframe tbody tr th {\n",
       "        vertical-align: top;\n",
       "    }\n",
       "\n",
       "    .dataframe thead th {\n",
       "        text-align: right;\n",
       "    }\n",
       "</style>\n",
       "<table border=\"1\" class=\"dataframe\">\n",
       "  <thead>\n",
       "    <tr style=\"text-align: right;\">\n",
       "      <th></th>\n",
       "      <th>id</th>\n",
       "      <th>area_code</th>\n",
       "      <th>outage_duration</th>\n",
       "      <th>broadband_type</th>\n",
       "      <th>outage_type</th>\n",
       "      <th>log_report_type</th>\n",
       "      <th>volume</th>\n",
       "      <th>transit_server_type</th>\n",
       "    </tr>\n",
       "  </thead>\n",
       "  <tbody>\n",
       "    <tr>\n",
       "      <td>17</td>\n",
       "      <td>4555</td>\n",
       "      <td>area_600</td>\n",
       "      <td>2</td>\n",
       "      <td>broadband_type_8</td>\n",
       "      <td>outage_type_2</td>\n",
       "      <td>log_report_type_82</td>\n",
       "      <td>30</td>\n",
       "      <td>transit_server_type_15</td>\n",
       "    </tr>\n",
       "    <tr>\n",
       "      <td>79</td>\n",
       "      <td>1373</td>\n",
       "      <td>area_962</td>\n",
       "      <td>2</td>\n",
       "      <td>broadband_type_8</td>\n",
       "      <td>outage_type_1</td>\n",
       "      <td>log_report_type_203</td>\n",
       "      <td>16</td>\n",
       "      <td>transit_server_type_15</td>\n",
       "    </tr>\n",
       "    <tr>\n",
       "      <td>117</td>\n",
       "      <td>4209</td>\n",
       "      <td>area_1086</td>\n",
       "      <td>2</td>\n",
       "      <td>broadband_type_8</td>\n",
       "      <td>outage_type_2</td>\n",
       "      <td>log_report_type_82</td>\n",
       "      <td>23</td>\n",
       "      <td>transit_server_type_15</td>\n",
       "    </tr>\n",
       "    <tr>\n",
       "      <td>157</td>\n",
       "      <td>8984</td>\n",
       "      <td>area_976</td>\n",
       "      <td>2</td>\n",
       "      <td>broadband_type_8</td>\n",
       "      <td>outage_type_2</td>\n",
       "      <td>log_report_type_82</td>\n",
       "      <td>40</td>\n",
       "      <td>transit_server_type_15</td>\n",
       "    </tr>\n",
       "    <tr>\n",
       "      <td>163</td>\n",
       "      <td>14361</td>\n",
       "      <td>area_704</td>\n",
       "      <td>2</td>\n",
       "      <td>broadband_type_8</td>\n",
       "      <td>outage_type_1</td>\n",
       "      <td>log_report_type_80</td>\n",
       "      <td>5</td>\n",
       "      <td>transit_server_type_15</td>\n",
       "    </tr>\n",
       "  </tbody>\n",
       "</table>\n",
       "</div>"
      ],
      "text/plain": [
       "        id  area_code  outage_duration    broadband_type    outage_type  \\\n",
       "17    4555   area_600                2  broadband_type_8  outage_type_2   \n",
       "79    1373   area_962                2  broadband_type_8  outage_type_1   \n",
       "117   4209  area_1086                2  broadband_type_8  outage_type_2   \n",
       "157   8984   area_976                2  broadband_type_8  outage_type_2   \n",
       "163  14361   area_704                2  broadband_type_8  outage_type_1   \n",
       "\n",
       "         log_report_type  volume     transit_server_type  \n",
       "17    log_report_type_82      30  transit_server_type_15  \n",
       "79   log_report_type_203      16  transit_server_type_15  \n",
       "117   log_report_type_82      23  transit_server_type_15  \n",
       "157   log_report_type_82      40  transit_server_type_15  \n",
       "163   log_report_type_80       5  transit_server_type_15  "
      ]
     },
     "execution_count": 43,
     "metadata": {},
     "output_type": "execute_result"
    }
   ],
   "source": [
    "prone.head()"
   ]
  },
  {
   "cell_type": "code",
   "execution_count": 44,
   "metadata": {},
   "outputs": [
    {
     "data": {
      "text/plain": [
       "area_1100    28\n",
       "area_1107    27\n",
       "area_600     27\n",
       "area_821     24\n",
       "area_734     23\n",
       "area_704     19\n",
       "area_1019    18\n",
       "area_810     18\n",
       "Name: area_code, dtype: int64"
      ]
     },
     "execution_count": 44,
     "metadata": {},
     "output_type": "execute_result"
    },
    {
     "data": {
      "image/png": "[encoded data removed]",
      "text/plain": [
       "<Figure size 792x792 with 1 Axes>"
      ]
     },
     "metadata": {},
     "output_type": "display_data"
    }
   ],
   "source": [
    "count=prone.area_code.value_counts()\n",
    "count.head(8).plot(kind='bar',figsize=(11,11))\n",
    "count.head(8)"
   ]
  },
  {
   "cell_type": "code",
   "execution_count": 45,
   "metadata": {},
   "outputs": [
    {
     "data": {
      "text/html": [
       "<div>\n",
       "<style scoped>\n",
       "    .dataframe tbody tr th:only-of-type {\n",
       "        vertical-align: middle;\n",
       "    }\n",
       "\n",
       "    .dataframe tbody tr th {\n",
       "        vertical-align: top;\n",
       "    }\n",
       "\n",
       "    .dataframe thead th {\n",
       "        text-align: right;\n",
       "    }\n",
       "</style>\n",
       "<table border=\"1\" class=\"dataframe\">\n",
       "  <thead>\n",
       "    <tr style=\"text-align: right;\">\n",
       "      <th></th>\n",
       "      <th>area_code</th>\n",
       "      <th>outage_duration</th>\n",
       "      <th>count</th>\n",
       "      <th>cumpercentage</th>\n",
       "    </tr>\n",
       "  </thead>\n",
       "  <tbody>\n",
       "    <tr>\n",
       "      <td>0</td>\n",
       "      <td>area_1100</td>\n",
       "      <td>2</td>\n",
       "      <td>28</td>\n",
       "      <td>4.819277</td>\n",
       "    </tr>\n",
       "    <tr>\n",
       "      <td>1</td>\n",
       "      <td>area_600</td>\n",
       "      <td>2</td>\n",
       "      <td>27</td>\n",
       "      <td>9.466437</td>\n",
       "    </tr>\n",
       "    <tr>\n",
       "      <td>2</td>\n",
       "      <td>area_1107</td>\n",
       "      <td>2</td>\n",
       "      <td>27</td>\n",
       "      <td>14.113597</td>\n",
       "    </tr>\n",
       "    <tr>\n",
       "      <td>3</td>\n",
       "      <td>area_821</td>\n",
       "      <td>2</td>\n",
       "      <td>24</td>\n",
       "      <td>18.244406</td>\n",
       "    </tr>\n",
       "    <tr>\n",
       "      <td>4</td>\n",
       "      <td>area_734</td>\n",
       "      <td>2</td>\n",
       "      <td>23</td>\n",
       "      <td>22.203098</td>\n",
       "    </tr>\n",
       "    <tr>\n",
       "      <td>...</td>\n",
       "      <td>...</td>\n",
       "      <td>...</td>\n",
       "      <td>...</td>\n",
       "      <td>...</td>\n",
       "    </tr>\n",
       "    <tr>\n",
       "      <td>130</td>\n",
       "      <td>area_1026</td>\n",
       "      <td>2</td>\n",
       "      <td>1</td>\n",
       "      <td>99.311532</td>\n",
       "    </tr>\n",
       "    <tr>\n",
       "      <td>131</td>\n",
       "      <td>area_724</td>\n",
       "      <td>2</td>\n",
       "      <td>1</td>\n",
       "      <td>99.483649</td>\n",
       "    </tr>\n",
       "    <tr>\n",
       "      <td>132</td>\n",
       "      <td>area_33</td>\n",
       "      <td>2</td>\n",
       "      <td>1</td>\n",
       "      <td>99.655766</td>\n",
       "    </tr>\n",
       "    <tr>\n",
       "      <td>133</td>\n",
       "      <td>area_73</td>\n",
       "      <td>2</td>\n",
       "      <td>1</td>\n",
       "      <td>99.827883</td>\n",
       "    </tr>\n",
       "    <tr>\n",
       "      <td>134</td>\n",
       "      <td>area_1024</td>\n",
       "      <td>2</td>\n",
       "      <td>1</td>\n",
       "      <td>100.000000</td>\n",
       "    </tr>\n",
       "  </tbody>\n",
       "</table>\n",
       "<p>135 rows × 4 columns</p>\n",
       "</div>"
      ],
      "text/plain": [
       "     area_code  outage_duration  count  cumpercentage\n",
       "0    area_1100                2     28       4.819277\n",
       "1     area_600                2     27       9.466437\n",
       "2    area_1107                2     27      14.113597\n",
       "3     area_821                2     24      18.244406\n",
       "4     area_734                2     23      22.203098\n",
       "..         ...              ...    ...            ...\n",
       "130  area_1026                2      1      99.311532\n",
       "131   area_724                2      1      99.483649\n",
       "132    area_33                2      1      99.655766\n",
       "133    area_73                2      1      99.827883\n",
       "134  area_1024                2      1     100.000000\n",
       "\n",
       "[135 rows x 4 columns]"
      ]
     },
     "execution_count": 45,
     "metadata": {},
     "output_type": "execute_result"
    }
   ],
   "source": [
    "#approach 2\n",
    "Agg=train_data[['id','area_code','outage_duration']].groupby(['area_code','outage_duration']).agg('count').reset_index().rename(columns={'id':'count'})\n",
    "\n",
    "Agg=Agg.sort_values(by=['count'],ascending=False)\n",
    "\n",
    "ans=Agg[Agg['outage_duration']==2]\n",
    "\n",
    "ans1=ans.reset_index()\n",
    "ans1\n",
    "del ans1['index']\n",
    "ans1[\"cumpercentage\"] = ans1[\"count\"].cumsum()/ans1[\"count\"].sum()*100\n",
    "ans1"
   ]
  },
  {
   "cell_type": "markdown",
   "metadata": {},
   "source": [
    " ANSWER TO THE SECOND QUESTION i.e 'Which broadband types are suspect of long outage durations? '"
   ]
  },
  {
   "cell_type": "code",
   "execution_count": 46,
   "metadata": {},
   "outputs": [
    {
     "name": "stdout",
     "output_type": "stream",
     "text": [
      "outage_duration       0    1    2\n",
      "broadband_type                   \n",
      "broadband_type_1      4    5    5\n",
      "broadband_type_10     8    4    1\n",
      "broadband_type_2   2166  454   62\n",
      "broadband_type_3     11   14    1\n",
      "broadband_type_4     23   20    1\n",
      "broadband_type_6     34   60    8\n",
      "broadband_type_7     54   41    4\n",
      "broadband_type_8   1505  879  498\n",
      "broadband_type_9     22   19    1\n"
     ]
    },
    {
     "data": {
      "image/png": "[encoded data removed]",
      "text/plain": [
       "<Figure size 432x288 with 1 Axes>"
      ]
     },
     "metadata": {},
     "output_type": "display_data"
    }
   ],
   "source": [
    "#1st APPROACH\n",
    "suspects=pd.crosstab(train_data['broadband_type'],train_data['outage_duration']) \n",
    "print(suspects)\n",
    "suspects.plot.bar(stacked =True)\n",
    "plt.show()"
   ]
  },
  {
   "cell_type": "markdown",
   "metadata": {},
   "source": [
    "INSIGHTS:\n",
    "As 2 is for 'long outage' from above observation broadband type 8 has begged the position for suspect by 498 counts "
   ]
  },
  {
   "cell_type": "code",
   "execution_count": 47,
   "metadata": {},
   "outputs": [
    {
     "data": {
      "image/png": "[encoded data removed]",
      "text/plain": [
       "<Figure size 945.125x432 with 1 Axes>"
      ]
     },
     "metadata": {},
     "output_type": "display_data"
    }
   ],
   "source": [
    "#2nd approach\n",
    "plt.style.use('dark_background') \n",
    "sns.catplot(x=\"broadband_type\", hue=\"outage_duration\", kind=\"count\",height=6,aspect=2,\n",
    "            palette=\"pastel\", edgecolor=\".9\",\n",
    "            data=train_data);"
   ]
  },
  {
   "cell_type": "code",
   "execution_count": 48,
   "metadata": {},
   "outputs": [],
   "source": [
    "#3rd Approach\n",
    "ans2=train_data.groupby(['broadband_type']).sum()"
   ]
  },
  {
   "cell_type": "code",
   "execution_count": 49,
   "metadata": {},
   "outputs": [
    {
     "data": {
      "text/html": [
       "<div>\n",
       "<style scoped>\n",
       "    .dataframe tbody tr th:only-of-type {\n",
       "        vertical-align: middle;\n",
       "    }\n",
       "\n",
       "    .dataframe tbody tr th {\n",
       "        vertical-align: top;\n",
       "    }\n",
       "\n",
       "    .dataframe thead th {\n",
       "        text-align: right;\n",
       "    }\n",
       "</style>\n",
       "<table border=\"1\" class=\"dataframe\">\n",
       "  <thead>\n",
       "    <tr style=\"text-align: right;\">\n",
       "      <th></th>\n",
       "      <th>id</th>\n",
       "      <th>outage_duration</th>\n",
       "      <th>volume</th>\n",
       "    </tr>\n",
       "    <tr>\n",
       "      <th>broadband_type</th>\n",
       "      <th></th>\n",
       "      <th></th>\n",
       "      <th></th>\n",
       "    </tr>\n",
       "  </thead>\n",
       "  <tbody>\n",
       "    <tr>\n",
       "      <td>broadband_type_1</td>\n",
       "      <td>150380</td>\n",
       "      <td>15</td>\n",
       "      <td>97</td>\n",
       "    </tr>\n",
       "    <tr>\n",
       "      <td>broadband_type_10</td>\n",
       "      <td>86070</td>\n",
       "      <td>6</td>\n",
       "      <td>23</td>\n",
       "    </tr>\n",
       "    <tr>\n",
       "      <td>broadband_type_2</td>\n",
       "      <td>25027078</td>\n",
       "      <td>578</td>\n",
       "      <td>24954</td>\n",
       "    </tr>\n",
       "    <tr>\n",
       "      <td>broadband_type_3</td>\n",
       "      <td>301850</td>\n",
       "      <td>16</td>\n",
       "      <td>69</td>\n",
       "    </tr>\n",
       "    <tr>\n",
       "      <td>broadband_type_4</td>\n",
       "      <td>371267</td>\n",
       "      <td>22</td>\n",
       "      <td>167</td>\n",
       "    </tr>\n",
       "    <tr>\n",
       "      <td>broadband_type_6</td>\n",
       "      <td>934159</td>\n",
       "      <td>76</td>\n",
       "      <td>201</td>\n",
       "    </tr>\n",
       "    <tr>\n",
       "      <td>broadband_type_7</td>\n",
       "      <td>956429</td>\n",
       "      <td>49</td>\n",
       "      <td>269</td>\n",
       "    </tr>\n",
       "    <tr>\n",
       "      <td>broadband_type_8</td>\n",
       "      <td>26825297</td>\n",
       "      <td>1875</td>\n",
       "      <td>24500</td>\n",
       "    </tr>\n",
       "    <tr>\n",
       "      <td>broadband_type_9</td>\n",
       "      <td>395433</td>\n",
       "      <td>21</td>\n",
       "      <td>72</td>\n",
       "    </tr>\n",
       "  </tbody>\n",
       "</table>\n",
       "</div>"
      ],
      "text/plain": [
       "                         id  outage_duration  volume\n",
       "broadband_type                                      \n",
       "broadband_type_1     150380               15      97\n",
       "broadband_type_10     86070                6      23\n",
       "broadband_type_2   25027078              578   24954\n",
       "broadband_type_3     301850               16      69\n",
       "broadband_type_4     371267               22     167\n",
       "broadband_type_6     934159               76     201\n",
       "broadband_type_7     956429               49     269\n",
       "broadband_type_8   26825297             1875   24500\n",
       "broadband_type_9     395433               21      72"
      ]
     },
     "execution_count": 49,
     "metadata": {},
     "output_type": "execute_result"
    }
   ],
   "source": [
    "ans2"
   ]
  },
  {
   "cell_type": "code",
   "execution_count": 50,
   "metadata": {},
   "outputs": [],
   "source": [
    "ans_2=ans2.drop(['id','volume'], axis=1).sort_values('outage_duration', ascending=False)"
   ]
  },
  {
   "cell_type": "code",
   "execution_count": 51,
   "metadata": {},
   "outputs": [
    {
     "data": {
      "text/html": [
       "<div>\n",
       "<style scoped>\n",
       "    .dataframe tbody tr th:only-of-type {\n",
       "        vertical-align: middle;\n",
       "    }\n",
       "\n",
       "    .dataframe tbody tr th {\n",
       "        vertical-align: top;\n",
       "    }\n",
       "\n",
       "    .dataframe thead th {\n",
       "        text-align: right;\n",
       "    }\n",
       "</style>\n",
       "<table border=\"1\" class=\"dataframe\">\n",
       "  <thead>\n",
       "    <tr style=\"text-align: right;\">\n",
       "      <th></th>\n",
       "      <th>outage_duration</th>\n",
       "    </tr>\n",
       "    <tr>\n",
       "      <th>broadband_type</th>\n",
       "      <th></th>\n",
       "    </tr>\n",
       "  </thead>\n",
       "  <tbody>\n",
       "    <tr>\n",
       "      <td>broadband_type_8</td>\n",
       "      <td>1875</td>\n",
       "    </tr>\n",
       "    <tr>\n",
       "      <td>broadband_type_2</td>\n",
       "      <td>578</td>\n",
       "    </tr>\n",
       "    <tr>\n",
       "      <td>broadband_type_6</td>\n",
       "      <td>76</td>\n",
       "    </tr>\n",
       "    <tr>\n",
       "      <td>broadband_type_7</td>\n",
       "      <td>49</td>\n",
       "    </tr>\n",
       "    <tr>\n",
       "      <td>broadband_type_4</td>\n",
       "      <td>22</td>\n",
       "    </tr>\n",
       "    <tr>\n",
       "      <td>broadband_type_9</td>\n",
       "      <td>21</td>\n",
       "    </tr>\n",
       "    <tr>\n",
       "      <td>broadband_type_3</td>\n",
       "      <td>16</td>\n",
       "    </tr>\n",
       "    <tr>\n",
       "      <td>broadband_type_1</td>\n",
       "      <td>15</td>\n",
       "    </tr>\n",
       "    <tr>\n",
       "      <td>broadband_type_10</td>\n",
       "      <td>6</td>\n",
       "    </tr>\n",
       "  </tbody>\n",
       "</table>\n",
       "</div>"
      ],
      "text/plain": [
       "                   outage_duration\n",
       "broadband_type                    \n",
       "broadband_type_8              1875\n",
       "broadband_type_2               578\n",
       "broadband_type_6                76\n",
       "broadband_type_7                49\n",
       "broadband_type_4                22\n",
       "broadband_type_9                21\n",
       "broadband_type_3                16\n",
       "broadband_type_1                15\n",
       "broadband_type_10                6"
      ]
     },
     "execution_count": 51,
     "metadata": {},
     "output_type": "execute_result"
    }
   ],
   "source": [
    "ans_2"
   ]
  },
  {
   "cell_type": "code",
   "execution_count": 52,
   "metadata": {},
   "outputs": [
    {
     "data": {
      "image/png": "[encoded data removed]",
      "text/plain": [
       "<Figure size 432x288 with 1 Axes>"
      ]
     },
     "metadata": {},
     "output_type": "display_data"
    }
   ],
   "source": [
    "#4th approach\n",
    "plt.style.use('dark_background') \n",
    "label_list1 = ans_2.index\n",
    "plt.pie(ans_2['outage_duration'],labels=label_list1,autopct ='%1.1f%%',radius=4, shadow = True) \n",
    "plt.show()"
   ]
  },
  {
   "cell_type": "code",
   "execution_count": 53,
   "metadata": {},
   "outputs": [],
   "source": [
    "#3RD ANSWER - AT THIS MOMENT IT WOULD BE WRONG TO GIVE ANY RECOMMENDATIONS TO IMPROVE THE DETECTION OF OUTAGE DURATION\n",
    "#AFTER MODELING AND UNDERSTANDING THE FEATURE IMPORTANCE I CAN BE IN A SITUATION TO RECOMMEND"
   ]
  },
  {
   "cell_type": "markdown",
   "metadata": {},
   "source": [
    "#### Reading all csv files and test data given on later stage"
   ]
  },
  {
   "cell_type": "code",
   "execution_count": 54,
   "metadata": {},
   "outputs": [],
   "source": [
    "train_datas=pd.read_csv('train_data.csv')\n",
    "broadband_data=pd.read_csv('broadband_data.csv')\n",
    "outage_data=pd.read_csv('outage_data.csv')\n",
    "report_data=pd.read_csv('report_data.csv')\n",
    "server_data=pd.read_csv('server_data.csv')\n",
    "test_data=pd.read_csv(\"test_data-1593798292529.csv\",header=0,sep=\",\")"
   ]
  },
  {
   "cell_type": "markdown",
   "metadata": {},
   "source": [
    "#### FEATURE ENGINERING "
   ]
  },
  {
   "cell_type": "markdown",
   "metadata": {},
   "source": [
    "Below I am doing 2 things:\n",
    "\n",
    "  a) In future as i am going to dummify i have concatinated both test data and train data\n",
    "  \n",
    "  b) I am creating a new column called source (train/test) as i have concatinated the data"
   ]
  },
  {
   "cell_type": "code",
   "execution_count": 55,
   "metadata": {},
   "outputs": [
    {
     "name": "stdout",
     "output_type": "stream",
     "text": [
      "  area_code     id  outage_duration source\n",
      "0  area_415  13366              1.0  train\n",
      "1  area_474   6783              0.0  train\n",
      "2  area_931   9519              1.0  train\n",
      "3  area_700  10202              1.0  train\n",
      "4  area_600   4555              2.0  train\n",
      "(7381, 4)\n",
      "\n",
      "\n",
      "(5904, 4)\n",
      "\n",
      "\n",
      "(1477, 3)\n",
      "\n",
      "\n",
      "0.0    3827\n",
      "1.0    1496\n",
      "2.0     581\n",
      "Name: outage_duration, dtype: int64\n"
     ]
    }
   ],
   "source": [
    "train_datas['source']='train'\n",
    "test_data['source']='test'\n",
    "data = pd.concat(objs=[train_datas, test_data], axis=0, ignore_index=True)\n",
    "print(data.head(5))\n",
    "print(data.shape)\n",
    "print(\"\\n\")\n",
    "print(train_datas.shape)\n",
    "print(\"\\n\")\n",
    "print(test_data.shape)\n",
    "print(\"\\n\")\n",
    "#print(len(data['area_code'].unique()))\n",
    "print(data['outage_duration'].value_counts())"
   ]
  },
  {
   "cell_type": "markdown",
   "metadata": {},
   "source": [
    "#### FE ON SERVER DATA"
   ]
  },
  {
   "cell_type": "code",
   "execution_count": 56,
   "metadata": {},
   "outputs": [],
   "source": [
    "# Feature engineering by calculating the contribution of each column towards the target varibale i.e outage duration"
   ]
  },
  {
   "cell_type": "code",
   "execution_count": 57,
   "metadata": {},
   "outputs": [],
   "source": [
    "# FE by two main calculations here\n",
    "# 1. Percen = Percentage contribution of feature in the train data\n",
    "# 2. Mod_srv= Highest outage occured for given feature using MODE\n",
    "# And going forward we can find this calculations for other variables too."
   ]
  },
  {
   "cell_type": "code",
   "execution_count": 58,
   "metadata": {},
   "outputs": [
    {
     "data": {
      "text/html": [
       "<div>\n",
       "<style scoped>\n",
       "    .dataframe tbody tr th:only-of-type {\n",
       "        vertical-align: middle;\n",
       "    }\n",
       "\n",
       "    .dataframe tbody tr th {\n",
       "        vertical-align: top;\n",
       "    }\n",
       "\n",
       "    .dataframe thead th {\n",
       "        text-align: right;\n",
       "    }\n",
       "</style>\n",
       "<table border=\"1\" class=\"dataframe\">\n",
       "  <thead>\n",
       "    <tr style=\"text-align: right;\">\n",
       "      <th></th>\n",
       "      <th>id</th>\n",
       "      <th>transit_server_type</th>\n",
       "      <th>area_code</th>\n",
       "      <th>outage_duration</th>\n",
       "      <th>source</th>\n",
       "    </tr>\n",
       "  </thead>\n",
       "  <tbody>\n",
       "    <tr>\n",
       "      <td>0</td>\n",
       "      <td>8011</td>\n",
       "      <td>transit_server_type_15</td>\n",
       "      <td>area_1</td>\n",
       "      <td>0.0</td>\n",
       "      <td>train</td>\n",
       "    </tr>\n",
       "    <tr>\n",
       "      <td>1</td>\n",
       "      <td>2588</td>\n",
       "      <td>transit_server_type_15</td>\n",
       "      <td>area_1</td>\n",
       "      <td>0.0</td>\n",
       "      <td>train</td>\n",
       "    </tr>\n",
       "    <tr>\n",
       "      <td>2</td>\n",
       "      <td>2588</td>\n",
       "      <td>transit_server_type_11</td>\n",
       "      <td>area_1</td>\n",
       "      <td>0.0</td>\n",
       "      <td>train</td>\n",
       "    </tr>\n",
       "    <tr>\n",
       "      <td>3</td>\n",
       "      <td>4848</td>\n",
       "      <td>transit_server_type_11</td>\n",
       "      <td>area_1</td>\n",
       "      <td>0.0</td>\n",
       "      <td>train</td>\n",
       "    </tr>\n",
       "    <tr>\n",
       "      <td>4</td>\n",
       "      <td>4848</td>\n",
       "      <td>transit_server_type_15</td>\n",
       "      <td>area_1</td>\n",
       "      <td>0.0</td>\n",
       "      <td>train</td>\n",
       "    </tr>\n",
       "  </tbody>\n",
       "</table>\n",
       "</div>"
      ],
      "text/plain": [
       "     id     transit_server_type area_code  outage_duration source\n",
       "0  8011  transit_server_type_15    area_1              0.0  train\n",
       "1  2588  transit_server_type_15    area_1              0.0  train\n",
       "2  2588  transit_server_type_11    area_1              0.0  train\n",
       "3  4848  transit_server_type_11    area_1              0.0  train\n",
       "4  4848  transit_server_type_15    area_1              0.0  train"
      ]
     },
     "metadata": {},
     "output_type": "display_data"
    },
    {
     "data": {
      "text/html": [
       "<div>\n",
       "<style scoped>\n",
       "    .dataframe tbody tr th:only-of-type {\n",
       "        vertical-align: middle;\n",
       "    }\n",
       "\n",
       "    .dataframe tbody tr th {\n",
       "        vertical-align: top;\n",
       "    }\n",
       "\n",
       "    .dataframe thead th {\n",
       "        text-align: right;\n",
       "    }\n",
       "</style>\n",
       "<table border=\"1\" class=\"dataframe\">\n",
       "  <thead>\n",
       "    <tr style=\"text-align: right;\">\n",
       "      <th></th>\n",
       "      <th>transit_server_type</th>\n",
       "    </tr>\n",
       "  </thead>\n",
       "  <tbody>\n",
       "    <tr>\n",
       "      <td>transit_server_type_11</td>\n",
       "      <td>3068</td>\n",
       "    </tr>\n",
       "    <tr>\n",
       "      <td>transit_server_type_35</td>\n",
       "      <td>2693</td>\n",
       "    </tr>\n",
       "    <tr>\n",
       "      <td>transit_server_type_34</td>\n",
       "      <td>2411</td>\n",
       "    </tr>\n",
       "    <tr>\n",
       "      <td>transit_server_type_15</td>\n",
       "      <td>1724</td>\n",
       "    </tr>\n",
       "    <tr>\n",
       "      <td>transit_server_type_20</td>\n",
       "      <td>557</td>\n",
       "    </tr>\n",
       "  </tbody>\n",
       "</table>\n",
       "</div>"
      ],
      "text/plain": [
       "                        transit_server_type\n",
       "transit_server_type_11                 3068\n",
       "transit_server_type_35                 2693\n",
       "transit_server_type_34                 2411\n",
       "transit_server_type_15                 1724\n",
       "transit_server_type_20                  557"
      ]
     },
     "metadata": {},
     "output_type": "display_data"
    }
   ],
   "source": [
    "server_data = server_data.merge(data, on='id')\n",
    "server_data1 = pd.DataFrame(server_data['transit_server_type'].value_counts())\n",
    "display(server_data.head())\n",
    "display(server_data1.head())"
   ]
  },
  {
   "cell_type": "code",
   "execution_count": 59,
   "metadata": {},
   "outputs": [
    {
     "data": {
      "text/html": [
       "<div>\n",
       "<style scoped>\n",
       "    .dataframe tbody tr th:only-of-type {\n",
       "        vertical-align: middle;\n",
       "    }\n",
       "\n",
       "    .dataframe tbody tr th {\n",
       "        vertical-align: top;\n",
       "    }\n",
       "\n",
       "    .dataframe thead th {\n",
       "        text-align: right;\n",
       "    }\n",
       "</style>\n",
       "<table border=\"1\" class=\"dataframe\">\n",
       "  <thead>\n",
       "    <tr style=\"text-align: right;\">\n",
       "      <th></th>\n",
       "      <th>transit_server_type</th>\n",
       "      <th>Percen</th>\n",
       "    </tr>\n",
       "  </thead>\n",
       "  <tbody>\n",
       "    <tr>\n",
       "      <td>transit_server_type_53</td>\n",
       "      <td>5</td>\n",
       "      <td>0.80</td>\n",
       "    </tr>\n",
       "    <tr>\n",
       "      <td>transit_server_type_31</td>\n",
       "      <td>5</td>\n",
       "      <td>0.60</td>\n",
       "    </tr>\n",
       "    <tr>\n",
       "      <td>transit_server_type_37</td>\n",
       "      <td>4</td>\n",
       "      <td>1.00</td>\n",
       "    </tr>\n",
       "    <tr>\n",
       "      <td>transit_server_type_19</td>\n",
       "      <td>4</td>\n",
       "      <td>0.75</td>\n",
       "    </tr>\n",
       "    <tr>\n",
       "      <td>transit_server_type_51</td>\n",
       "      <td>3</td>\n",
       "      <td>1.00</td>\n",
       "    </tr>\n",
       "    <tr>\n",
       "      <td>transit_server_type_9</td>\n",
       "      <td>3</td>\n",
       "      <td>1.00</td>\n",
       "    </tr>\n",
       "    <tr>\n",
       "      <td>transit_server_type_12</td>\n",
       "      <td>2</td>\n",
       "      <td>1.00</td>\n",
       "    </tr>\n",
       "    <tr>\n",
       "      <td>transit_server_type_25</td>\n",
       "      <td>1</td>\n",
       "      <td>1.00</td>\n",
       "    </tr>\n",
       "    <tr>\n",
       "      <td>transit_server_type_48</td>\n",
       "      <td>1</td>\n",
       "      <td>1.00</td>\n",
       "    </tr>\n",
       "    <tr>\n",
       "      <td>transit_server_type_1</td>\n",
       "      <td>1</td>\n",
       "      <td>1.00</td>\n",
       "    </tr>\n",
       "    <tr>\n",
       "      <td>transit_server_type_41</td>\n",
       "      <td>1</td>\n",
       "      <td>1.00</td>\n",
       "    </tr>\n",
       "  </tbody>\n",
       "</table>\n",
       "</div>"
      ],
      "text/plain": [
       "                        transit_server_type  Percen\n",
       "transit_server_type_53                    5    0.80\n",
       "transit_server_type_31                    5    0.60\n",
       "transit_server_type_37                    4    1.00\n",
       "transit_server_type_19                    4    0.75\n",
       "transit_server_type_51                    3    1.00\n",
       "transit_server_type_9                     3    1.00\n",
       "transit_server_type_12                    2    1.00\n",
       "transit_server_type_25                    1    1.00\n",
       "transit_server_type_48                    1    1.00\n",
       "transit_server_type_1                     1    1.00\n",
       "transit_server_type_41                    1    1.00"
      ]
     },
     "metadata": {},
     "output_type": "display_data"
    }
   ],
   "source": [
    "# Here we are checking the contribution of the individual Transit Server Type to Train Data with respect to complete data \n",
    "# which will help us in understanding most used transit server type\n",
    "server_data1['Percen'] = server_data.pivot_table(values='source',index='transit_server_type',aggfunc=lambda x: sum(x=='train')/float(len(x)))\n",
    "display(server_data1.tail(11))"
   ]
  },
  {
   "cell_type": "code",
   "execution_count": 60,
   "metadata": {},
   "outputs": [
    {
     "name": "stdout",
     "output_type": "stream",
     "text": [
      "                        transit_server_type    Percen  Mode_srv\n",
      "transit_server_type_11                 3068  0.806063       0.0\n",
      "transit_server_type_35                 2693  0.801337       0.0\n",
      "transit_server_type_34                 2411  0.798424       0.0\n",
      "transit_server_type_15                 1724  0.794664       0.0\n",
      "transit_server_type_20                  557  0.784560       0.0\n",
      "transit_server_type_54                  264  0.768939       1.0\n",
      "transit_server_type_13                  247  0.813765       1.0\n",
      "transit_server_type_23                  198  0.803030       0.0\n",
      "transit_server_type_42                  185  0.800000       0.0\n",
      "transit_server_type_44                  178  0.797753       0.0\n",
      "transit_server_type_14                  144  0.791667       0.0\n"
     ]
    }
   ],
   "source": [
    "# Apllying the 2nd calculation we discussed above i.e \n",
    "# Checking Maximum occured value for outage duration for each transit server type in given server data\n",
    "# Mode[0]= 1st highest mode value \n",
    "server_data1['Mode_srv'] = server_data.loc[server_data['source']=='train'].pivot_table(values='outage_duration',index='transit_server_type', aggfunc=lambda x: mode(x).mode[0])\n",
    "print(server_data1.head(11))\n",
    "#Maximum occured value(0,1,2) for outage duration for each transit server type in given server data"
   ]
  },
  {
   "cell_type": "code",
   "execution_count": 61,
   "metadata": {},
   "outputs": [
    {
     "name": "stdout",
     "output_type": "stream",
     "text": [
      "server_type others_0      23\n",
      "server_type others_1       6\n",
      "server_type others_2       5\n",
      "transit_server_type_21     1\n",
      "transit_server_type_54     1\n",
      "transit_server_type_44     1\n",
      "transit_server_type_13     1\n",
      "transit_server_type_23     1\n",
      "transit_server_type_34     1\n",
      "transit_server_type_43     1\n",
      "transit_server_type_35     1\n",
      "transit_server_type_11     1\n",
      "transit_server_type_42     1\n",
      "transit_server_type_10     1\n",
      "transit_server_type_20     1\n",
      "transit_server_type_22     1\n",
      "transit_server_type_15     1\n",
      "transit_server_type_14     1\n",
      "Name: pre_process, dtype: int64\n",
      "                        transit_server_type    Percen  Mode_srv  \\\n",
      "transit_server_type_11                 3068  0.806063       0.0   \n",
      "transit_server_type_35                 2693  0.801337       0.0   \n",
      "transit_server_type_34                 2411  0.798424       0.0   \n",
      "transit_server_type_15                 1724  0.794664       0.0   \n",
      "transit_server_type_20                  557  0.784560       0.0   \n",
      "transit_server_type_54                  264  0.768939       1.0   \n",
      "transit_server_type_13                  247  0.813765       1.0   \n",
      "transit_server_type_23                  198  0.803030       0.0   \n",
      "transit_server_type_42                  185  0.800000       0.0   \n",
      "transit_server_type_44                  178  0.797753       0.0   \n",
      "transit_server_type_14                  144  0.791667       0.0   \n",
      "transit_server_type_43                  126  0.785714       0.0   \n",
      "transit_server_type_22                   96  0.781250       1.0   \n",
      "transit_server_type_21                   63  0.793651       0.0   \n",
      "transit_server_type_10                   58  0.758621       1.0   \n",
      "transit_server_type_50                   51  0.725490       0.0   \n",
      "transit_server_type_18                   35  0.800000       0.0   \n",
      "transit_server_type_26                   28  0.785714       0.0   \n",
      "transit_server_type_47                   28  0.857143       0.0   \n",
      "transit_server_type_30                   26  0.884615       1.0   \n",
      "transit_server_type_32                   24  0.875000       0.0   \n",
      "transit_server_type_24                   22  0.772727       0.0   \n",
      "transit_server_type_46                   20  0.800000       0.0   \n",
      "transit_server_type_45                   20  0.900000       0.0   \n",
      "transit_server_type_29                   17  0.823529       1.0   \n",
      "transit_server_type_2                    17  0.764706       1.0   \n",
      "transit_server_type_40                   16  0.750000       0.0   \n",
      "transit_server_type_6                    16  0.750000       0.0   \n",
      "transit_server_type_5                    16  0.812500       2.0   \n",
      "transit_server_type_28                   16  0.750000       1.0   \n",
      "transit_server_type_27                   15  0.733333       0.0   \n",
      "transit_server_type_7                    13  1.000000       1.0   \n",
      "transit_server_type_36                   10  0.700000       0.0   \n",
      "transit_server_type_38                    9  0.888889       0.0   \n",
      "transit_server_type_8                     8  0.875000       0.0   \n",
      "transit_server_type_3                     7  0.857143       2.0   \n",
      "transit_server_type_49                    6  0.833333       2.0   \n",
      "transit_server_type_39                    6  0.833333       1.0   \n",
      "transit_server_type_53                    5  0.800000       2.0   \n",
      "transit_server_type_31                    5  0.600000       0.0   \n",
      "transit_server_type_37                    4  1.000000       0.0   \n",
      "transit_server_type_19                    4  0.750000       2.0   \n",
      "transit_server_type_51                    3  1.000000       0.0   \n",
      "transit_server_type_9                     3  1.000000       0.0   \n",
      "transit_server_type_12                    2  1.000000       0.0   \n",
      "transit_server_type_25                    1  1.000000       0.0   \n",
      "transit_server_type_48                    1  1.000000       0.0   \n",
      "transit_server_type_1                     1  1.000000       0.0   \n",
      "transit_server_type_41                    1  1.000000       0.0   \n",
      "\n",
      "                                   pre_process  \n",
      "transit_server_type_11  transit_server_type_11  \n",
      "transit_server_type_35  transit_server_type_35  \n",
      "transit_server_type_34  transit_server_type_34  \n",
      "transit_server_type_15  transit_server_type_15  \n",
      "transit_server_type_20  transit_server_type_20  \n",
      "transit_server_type_54  transit_server_type_54  \n",
      "transit_server_type_13  transit_server_type_13  \n",
      "transit_server_type_23  transit_server_type_23  \n",
      "transit_server_type_42  transit_server_type_42  \n",
      "transit_server_type_44  transit_server_type_44  \n",
      "transit_server_type_14  transit_server_type_14  \n",
      "transit_server_type_43  transit_server_type_43  \n",
      "transit_server_type_22  transit_server_type_22  \n",
      "transit_server_type_21  transit_server_type_21  \n",
      "transit_server_type_10  transit_server_type_10  \n",
      "transit_server_type_50    server_type others_0  \n",
      "transit_server_type_18    server_type others_0  \n",
      "transit_server_type_26    server_type others_0  \n",
      "transit_server_type_47    server_type others_0  \n",
      "transit_server_type_30    server_type others_1  \n",
      "transit_server_type_32    server_type others_0  \n",
      "transit_server_type_24    server_type others_0  \n",
      "transit_server_type_46    server_type others_0  \n",
      "transit_server_type_45    server_type others_0  \n",
      "transit_server_type_29    server_type others_1  \n",
      "transit_server_type_2     server_type others_1  \n",
      "transit_server_type_40    server_type others_0  \n",
      "transit_server_type_6     server_type others_0  \n",
      "transit_server_type_5     server_type others_2  \n",
      "transit_server_type_28    server_type others_1  \n",
      "transit_server_type_27    server_type others_0  \n",
      "transit_server_type_7     server_type others_1  \n",
      "transit_server_type_36    server_type others_0  \n",
      "transit_server_type_38    server_type others_0  \n",
      "transit_server_type_8     server_type others_0  \n",
      "transit_server_type_3     server_type others_2  \n",
      "transit_server_type_49    server_type others_2  \n",
      "transit_server_type_39    server_type others_1  \n",
      "transit_server_type_53    server_type others_2  \n",
      "transit_server_type_31    server_type others_0  \n",
      "transit_server_type_37    server_type others_0  \n",
      "transit_server_type_19    server_type others_2  \n",
      "transit_server_type_51    server_type others_0  \n",
      "transit_server_type_9     server_type others_0  \n",
      "transit_server_type_12    server_type others_0  \n",
      "transit_server_type_25    server_type others_0  \n",
      "transit_server_type_48    server_type others_0  \n",
      "transit_server_type_1     server_type others_0  \n",
      "transit_server_type_41    server_type others_0  \n"
     ]
    }
   ],
   "source": [
    "#checking bottom 15 servers used least by train data \n",
    "server_data1.iloc[-15:]\n",
    "server_data1['pre_process'] = server_data1.index.values\n",
    "# Creating a new column called pre_process\n",
    "\n",
    "# We are Marking rows as dicard which has transit server types that made no contribution to Train data given for preprocess\n",
    "server_data1['pre_process'].loc[server_data1['Percen']==0] = 'discard'\n",
    "# Marking rows as dicard if it has no outage duration\n",
    "# Mark as Server Type others_0 f it has Outage duration from Class 0\n",
    "# Mark as Server Type others_1 f it has Outage duration from Class 1\n",
    "# Mark as Server Type others_2 f it has Outage duration from Class 2\n",
    "\n",
    "# We are updating this understand to the preprocessing of features , remove unnecessary", 
    "# Classify min used as others and maximum used , allowing the features to calculate their importance",
    "top_unchange = 15\n",
    
    "\n",
    "server_data1['pre_process'].iloc[top_unchange:] = server_data1['Mode_srv'].iloc[top_unchange:].apply(lambda x: 'discard' if pd.isnull(x) else 'server_type others_%d'%int(x))\n",
    "\n",
    "print(server_data1['pre_process'].value_counts())\n",
    "print(server_data1)"
   ]
  },
  {
   "cell_type": "code",
   "execution_count": 62,
   "metadata": {},
   "outputs": [
    {
     "data": {
      "text/html": [
       "<div>\n",
       "<style scoped>\n",
       "    .dataframe tbody tr th:only-of-type {\n",
       "        vertical-align: middle;\n",
       "    }\n",
       "\n",
       "    .dataframe tbody tr th {\n",
       "        vertical-align: top;\n",
       "    }\n",
       "\n",
       "    .dataframe thead th {\n",
       "        text-align: right;\n",
       "    }\n",
       "</style>\n",
       "<table border=\"1\" class=\"dataframe\">\n",
       "  <thead>\n",
       "    <tr style=\"text-align: right;\">\n",
       "      <th></th>\n",
       "      <th>id</th>\n",
       "      <th>transit_server_type</th>\n",
       "      <th>area_code</th>\n",
       "      <th>outage_duration</th>\n",
       "      <th>source</th>\n",
       "      <th>pre_process</th>\n",
       "    </tr>\n",
       "  </thead>\n",
       "  <tbody>\n",
       "    <tr>\n",
       "      <td>0</td>\n",
       "      <td>8011</td>\n",
       "      <td>transit_server_type_15</td>\n",
       "      <td>area_1</td>\n",
       "      <td>0.0</td>\n",
       "      <td>train</td>\n",
       "      <td>transit_server_type_15</td>\n",
       "    </tr>\n",
       "    <tr>\n",
       "      <td>1</td>\n",
       "      <td>2588</td>\n",
       "      <td>transit_server_type_15</td>\n",
       "      <td>area_1</td>\n",
       "      <td>0.0</td>\n",
       "      <td>train</td>\n",
       "      <td>transit_server_type_15</td>\n",
       "    </tr>\n",
       "    <tr>\n",
       "      <td>4</td>\n",
       "      <td>4848</td>\n",
       "      <td>transit_server_type_15</td>\n",
       "      <td>area_1</td>\n",
       "      <td>0.0</td>\n",
       "      <td>train</td>\n",
       "      <td>transit_server_type_15</td>\n",
       "    </tr>\n",
       "    <tr>\n",
       "      <td>6</td>\n",
       "      <td>6914</td>\n",
       "      <td>transit_server_type_15</td>\n",
       "      <td>area_1</td>\n",
       "      <td>0.0</td>\n",
       "      <td>train</td>\n",
       "      <td>transit_server_type_15</td>\n",
       "    </tr>\n",
       "    <tr>\n",
       "      <td>7</td>\n",
       "      <td>5337</td>\n",
       "      <td>transit_server_type_15</td>\n",
       "      <td>area_1</td>\n",
       "      <td>0.0</td>\n",
       "      <td>train</td>\n",
       "      <td>transit_server_type_15</td>\n",
       "    </tr>\n",
       "  </tbody>\n",
       "</table>\n",
       "</div>"
      ],
      "text/plain": [
       "     id     transit_server_type area_code  outage_duration source  \\\n",
       "0  8011  transit_server_type_15    area_1              0.0  train   \n",
       "1  2588  transit_server_type_15    area_1              0.0  train   \n",
       "4  4848  transit_server_type_15    area_1              0.0  train   \n",
       "6  6914  transit_server_type_15    area_1              0.0  train   \n",
       "7  5337  transit_server_type_15    area_1              0.0  train   \n",
       "\n",
       "              pre_process  \n",
       "0  transit_server_type_15  \n",
       "1  transit_server_type_15  \n",
       "4  transit_server_type_15  \n",
       "6  transit_server_type_15  \n",
       "7  transit_server_type_15  "
      ]
     },
     "metadata": {},
     "output_type": "display_data"
    },
    {
     "data": {
      "text/plain": [
       "(7381, 18)"
      ]
     },
     "metadata": {},
     "output_type": "display_data"
    },
    {
     "data": {
      "text/html": [
       "<div>\n",
       "<style scoped>\n",
       "    .dataframe tbody tr th:only-of-type {\n",
       "        vertical-align: middle;\n",
       "    }\n",
       "\n",
       "    .dataframe tbody tr th {\n",
       "        vertical-align: top;\n",
       "    }\n",
       "\n",
       "    .dataframe thead th {\n",
       "        text-align: right;\n",
       "    }\n",
       "</style>\n",
       "<table border=\"1\" class=\"dataframe\">\n",
       "  <thead>\n",
       "    <tr style=\"text-align: right;\">\n",
       "      <th></th>\n",
       "      <th>area_code</th>\n",
       "      <th>id</th>\n",
       "      <th>outage_duration</th>\n",
       "      <th>source</th>\n",
       "      <th>server_type others_0</th>\n",
       "      <th>server_type others_1</th>\n",
       "      <th>server_type others_2</th>\n",
       "      <th>transit_server_type_10</th>\n",
       "      <th>transit_server_type_11</th>\n",
       "      <th>transit_server_type_13</th>\n",
       "      <th>...</th>\n",
       "      <th>transit_server_type_20</th>\n",
       "      <th>transit_server_type_21</th>\n",
       "      <th>transit_server_type_22</th>\n",
       "      <th>transit_server_type_23</th>\n",
       "      <th>transit_server_type_34</th>\n",
       "      <th>transit_server_type_35</th>\n",
       "      <th>transit_server_type_42</th>\n",
       "      <th>transit_server_type_43</th>\n",
       "      <th>transit_server_type_44</th>\n",
       "      <th>transit_server_type_54</th>\n",
       "    </tr>\n",
       "  </thead>\n",
       "  <tbody>\n",
       "    <tr>\n",
       "      <td>0</td>\n",
       "      <td>area_415</td>\n",
       "      <td>13366</td>\n",
       "      <td>1.0</td>\n",
       "      <td>train</td>\n",
       "      <td>0</td>\n",
       "      <td>0</td>\n",
       "      <td>0</td>\n",
       "      <td>0</td>\n",
       "      <td>0</td>\n",
       "      <td>0</td>\n",
       "      <td>...</td>\n",
       "      <td>0</td>\n",
       "      <td>0</td>\n",
       "      <td>0</td>\n",
       "      <td>0</td>\n",
       "      <td>0</td>\n",
       "      <td>1</td>\n",
       "      <td>0</td>\n",
       "      <td>0</td>\n",
       "      <td>0</td>\n",
       "      <td>0</td>\n",
       "    </tr>\n",
       "    <tr>\n",
       "      <td>1</td>\n",
       "      <td>area_474</td>\n",
       "      <td>6783</td>\n",
       "      <td>0.0</td>\n",
       "      <td>train</td>\n",
       "      <td>0</td>\n",
       "      <td>0</td>\n",
       "      <td>0</td>\n",
       "      <td>0</td>\n",
       "      <td>0</td>\n",
       "      <td>0</td>\n",
       "      <td>...</td>\n",
       "      <td>0</td>\n",
       "      <td>0</td>\n",
       "      <td>0</td>\n",
       "      <td>0</td>\n",
       "      <td>1</td>\n",
       "      <td>1</td>\n",
       "      <td>0</td>\n",
       "      <td>0</td>\n",
       "      <td>0</td>\n",
       "      <td>0</td>\n",
       "    </tr>\n",
       "    <tr>\n",
       "      <td>2</td>\n",
       "      <td>area_931</td>\n",
       "      <td>9519</td>\n",
       "      <td>1.0</td>\n",
       "      <td>train</td>\n",
       "      <td>0</td>\n",
       "      <td>0</td>\n",
       "      <td>0</td>\n",
       "      <td>0</td>\n",
       "      <td>0</td>\n",
       "      <td>0</td>\n",
       "      <td>...</td>\n",
       "      <td>0</td>\n",
       "      <td>0</td>\n",
       "      <td>0</td>\n",
       "      <td>0</td>\n",
       "      <td>0</td>\n",
       "      <td>0</td>\n",
       "      <td>0</td>\n",
       "      <td>0</td>\n",
       "      <td>0</td>\n",
       "      <td>0</td>\n",
       "    </tr>\n",
       "  </tbody>\n",
       "</table>\n",
       "<p>3 rows × 22 columns</p>\n",
       "</div>"
      ],
      "text/plain": [
       "  area_code     id  outage_duration source  server_type others_0  \\\n",
       "0  area_415  13366              1.0  train                     0   \n",
       "1  area_474   6783              0.0  train                     0   \n",
       "2  area_931   9519              1.0  train                     0   \n",
       "\n",
       "   server_type others_1  server_type others_2  transit_server_type_10  \\\n",
       "0                     0                     0                       0   \n",
       "1                     0                     0                       0   \n",
       "2                     0                     0                       0   \n",
       "\n",
       "   transit_server_type_11  transit_server_type_13  ...  \\\n",
       "0                       0                       0  ...   \n",
       "1                       0                       0  ...   \n",
       "2                       0                       0  ...   \n",
       "\n",
       "   transit_server_type_20  transit_server_type_21  transit_server_type_22  \\\n",
       "0                       0                       0                       0   \n",
       "1                       0                       0                       0   \n",
       "2                       0                       0                       0   \n",
       "\n",
       "   transit_server_type_23  transit_server_type_34  transit_server_type_35  \\\n",
       "0                       0                       0                       1   \n",
       "1                       0                       1                       1   \n",
       "2                       0                       0                       0   \n",
       "\n",
       "   transit_server_type_42  transit_server_type_43  transit_server_type_44  \\\n",
       "0                       0                       0                       0   \n",
       "1                       0                       0                       0   \n",
       "2                       0                       0                       0   \n",
       "\n",
       "   transit_server_type_54  \n",
       "0                       0  \n",
       "1                       0  \n",
       "2                       0  \n",
       "\n",
       "[3 rows x 22 columns]"
      ]
     },
     "execution_count": 62,
     "metadata": {},
     "output_type": "execute_result"
    }
   ],
   "source": [
    "#Based on their transit server type we are adding server data1 to the preprocess features.\n",
    "server_data = server_data.merge(server_data1[['pre_process']], left_on='transit_server_type',right_index=True)\n",
    "display(server_data.head())\n",
    "\n",
    "#Levels reduced from 53 to 18(15+3) for Transit Server type\n",
    "server_data['pre_process'].value_counts()\n",
    "#Now it's 7381 rows and 18 columns\n",
    "\n",
    "#Dummifying  Preproces Transit Server Type\n",
    "server_merge = server_data.pivot_table(values='transit_server_type',index='id',columns='pre_process',aggfunc=lambda x: len(x), fill_value=0)\n",
    "display(server_merge.shape)\n",
    "\n",
    "#Merging dummified Transit Server Type data into base data set\n",
    "data = data.merge(server_merge, left_on='id', right_index=True)\n",
    "data.head(3)"
   ]
  },
  {
   "cell_type": "markdown",
   "metadata": {},
   "source": [
    "#### FE ON LOG REPORT DATA"
   ]
  },
  {
   "cell_type": "code",
   "execution_count": 63,
   "metadata": {},
   "outputs": [
    {
     "data": {
      "text/plain": [
       "331"
      ]
     },
     "metadata": {},
     "output_type": "display_data"
    }
   ],
   "source": [
    "#Below we are applying same calculations discussed above i.e percen and Mode severity\n",
    "report_data = report_data.merge(data[['id','outage_duration','source']], on='id')\n",
    "report_data1 = pd.DataFrame(report_data['log_report_type'].value_counts())\n",
    "report_data1['Percen'] = report_data.pivot_table(values='source',index='log_report_type',aggfunc=lambda x: sum(x=='train')/float(len(x)))\n",
    "report_data1['Mode_srv'] = report_data.loc[report_data['source']=='train'].pivot_table(values='outage_duration',index='log_report_type', aggfunc=lambda x: mode(x).mode[0])\n",
    "display(len(report_data1))"
   ]
  },
  {
   "cell_type": "code",
   "execution_count": 64,
   "metadata": {},
   "outputs": [],
   "source": [
    "#Bottom 15 server\n",
    "report_data1.iloc[-15:]\n",
    "report_data1['pre_process'] = report_data1.index.values\n",
    "report_data1['pre_process'].loc[report_data1['Percen']==1] = np.nan\n",
    "top_unchange = 125\n",
    "report_data1['pre_process'].iloc[top_unchange:] = report_data1['Mode_srv'].iloc[top_unchange:].apply(lambda x: 'discard' if pd.isnull(x) else 'log_report_type others_%d'%int(x))\n"
   ]
  },
  {
   "cell_type": "code",
   "execution_count": 65,
   "metadata": {},
   "outputs": [
    {
     "data": {
      "text/plain": [
       "(7374, 127)"
      ]
     },
     "metadata": {},
     "output_type": "display_data"
    },
    {
     "data": {
      "text/html": [
       "<div>\n",
       "<style scoped>\n",
       "    .dataframe tbody tr th:only-of-type {\n",
       "        vertical-align: middle;\n",
       "    }\n",
       "\n",
       "    .dataframe tbody tr th {\n",
       "        vertical-align: top;\n",
       "    }\n",
       "\n",
       "    .dataframe thead th {\n",
       "        text-align: right;\n",
       "    }\n",
       "</style>\n",
       "<table border=\"1\" class=\"dataframe\">\n",
       "  <thead>\n",
       "    <tr style=\"text-align: right;\">\n",
       "      <th></th>\n",
       "      <th>area_code</th>\n",
       "      <th>id</th>\n",
       "      <th>outage_duration</th>\n",
       "      <th>source</th>\n",
       "      <th>server_type others_0</th>\n",
       "      <th>server_type others_1</th>\n",
       "      <th>server_type others_2</th>\n",
       "      <th>transit_server_type_10</th>\n",
       "      <th>transit_server_type_11</th>\n",
       "      <th>transit_server_type_13</th>\n",
       "      <th>...</th>\n",
       "      <th>log_report_type_8</th>\n",
       "      <th>log_report_type_80</th>\n",
       "      <th>log_report_type_81</th>\n",
       "      <th>log_report_type_82</th>\n",
       "      <th>log_report_type_83</th>\n",
       "      <th>log_report_type_85</th>\n",
       "      <th>log_report_type_86</th>\n",
       "      <th>log_report_type_87</th>\n",
       "      <th>log_report_type_94</th>\n",
       "      <th>log_report_type_95</th>\n",
       "    </tr>\n",
       "  </thead>\n",
       "  <tbody>\n",
       "    <tr>\n",
       "      <td>0</td>\n",
       "      <td>area_415</td>\n",
       "      <td>13366</td>\n",
       "      <td>1.0</td>\n",
       "      <td>train</td>\n",
       "      <td>0</td>\n",
       "      <td>0</td>\n",
       "      <td>0</td>\n",
       "      <td>0</td>\n",
       "      <td>0</td>\n",
       "      <td>0</td>\n",
       "      <td>...</td>\n",
       "      <td>0</td>\n",
       "      <td>0</td>\n",
       "      <td>0</td>\n",
       "      <td>0</td>\n",
       "      <td>0</td>\n",
       "      <td>0</td>\n",
       "      <td>0</td>\n",
       "      <td>0</td>\n",
       "      <td>0</td>\n",
       "      <td>0</td>\n",
       "    </tr>\n",
       "    <tr>\n",
       "      <td>1</td>\n",
       "      <td>area_474</td>\n",
       "      <td>6783</td>\n",
       "      <td>0.0</td>\n",
       "      <td>train</td>\n",
       "      <td>0</td>\n",
       "      <td>0</td>\n",
       "      <td>0</td>\n",
       "      <td>0</td>\n",
       "      <td>0</td>\n",
       "      <td>0</td>\n",
       "      <td>...</td>\n",
       "      <td>0</td>\n",
       "      <td>0</td>\n",
       "      <td>0</td>\n",
       "      <td>0</td>\n",
       "      <td>0</td>\n",
       "      <td>0</td>\n",
       "      <td>0</td>\n",
       "      <td>0</td>\n",
       "      <td>0</td>\n",
       "      <td>0</td>\n",
       "    </tr>\n",
       "    <tr>\n",
       "      <td>2</td>\n",
       "      <td>area_931</td>\n",
       "      <td>9519</td>\n",
       "      <td>1.0</td>\n",
       "      <td>train</td>\n",
       "      <td>0</td>\n",
       "      <td>0</td>\n",
       "      <td>0</td>\n",
       "      <td>0</td>\n",
       "      <td>0</td>\n",
       "      <td>0</td>\n",
       "      <td>...</td>\n",
       "      <td>0</td>\n",
       "      <td>2</td>\n",
       "      <td>0</td>\n",
       "      <td>6</td>\n",
       "      <td>0</td>\n",
       "      <td>0</td>\n",
       "      <td>0</td>\n",
       "      <td>0</td>\n",
       "      <td>0</td>\n",
       "      <td>0</td>\n",
       "    </tr>\n",
       "  </tbody>\n",
       "</table>\n",
       "<p>3 rows × 149 columns</p>\n",
       "</div>"
      ],
      "text/plain": [
       "  area_code     id  outage_duration source  server_type others_0  \\\n",
       "0  area_415  13366              1.0  train                     0   \n",
       "1  area_474   6783              0.0  train                     0   \n",
       "2  area_931   9519              1.0  train                     0   \n",
       "\n",
       "   server_type others_1  server_type others_2  transit_server_type_10  \\\n",
       "0                     0                     0                       0   \n",
       "1                     0                     0                       0   \n",
       "2                     0                     0                       0   \n",
       "\n",
       "   transit_server_type_11  transit_server_type_13  ...  log_report_type_8  \\\n",
       "0                       0                       0  ...                  0   \n",
       "1                       0                       0  ...                  0   \n",
       "2                       0                       0  ...                  0   \n",
       "\n",
       "   log_report_type_80  log_report_type_81  log_report_type_82  \\\n",
       "0                   0                   0                   0   \n",
       "1                   0                   0                   0   \n",
       "2                   2                   0                   6   \n",
       "\n",
       "   log_report_type_83  log_report_type_85  log_report_type_86  \\\n",
       "0                   0                   0                   0   \n",
       "1                   0                   0                   0   \n",
       "2                   0                   0                   0   \n",
       "\n",
       "   log_report_type_87  log_report_type_94  log_report_type_95  \n",
       "0                   0                   0                   0  \n",
       "1                   0                   0                   0  \n",
       "2                   0                   0                   0  \n",
       "\n",
       "[3 rows x 149 columns]"
      ]
     },
     "metadata": {},
     "output_type": "display_data"
    }
   ],
   "source": [
    "report_data = report_data.merge(report_data1[['pre_process']], left_on='log_report_type',right_index=True)\n",
    "report_data['pre_process'].value_counts() \n",
    "report_merge = report_data.pivot_table(values='volume',index='id',columns='pre_process',aggfunc=np.sum, fill_value=0)\n",
    "display(report_merge.shape)\n",
    "data = data.merge(report_merge, left_on='id', right_index=True)\n",
    "display(data.head(3))"
   ]
  },
  {
   "cell_type": "markdown",
   "metadata": {},
   "source": [
    "#### FE ON BROADBAND TYPE DATA"
   ]
  },
  {
   "cell_type": "code",
   "execution_count": 66,
   "metadata": {},
   "outputs": [
    {
     "name": "stdout",
     "output_type": "stream",
     "text": [
      "                   broadband_type    Percen\n",
      "broadband_type_8             4044  0.800940\n",
      "broadband_type_2             3585  0.795258\n",
      "broadband_type_6              247  0.813765\n",
      "broadband_type_7              225  0.795556\n",
      "broadband_type_4              144  0.791667\n",
      "broadband_type_9               77  0.792208\n",
      "broadband_type_3               58  0.758621\n",
      "broadband_type_10              35  0.800000\n",
      "broadband_type_1               34  0.794118\n",
      "broadband_type_5                4  0.750000\n",
      "                  broadband_type    Percen  Mode_srv\n",
      "broadband_type_8            4044  0.800940       0.0\n",
      "broadband_type_2            3585  0.795258       0.0\n",
      "broadband_type_6             247  0.813765       1.0\n",
      "broadband_type_7             225  0.795556       0.0\n"
     ]
    },
    {
     "data": {
      "text/html": [
       "<div>\n",
       "<style scoped>\n",
       "    .dataframe tbody tr th:only-of-type {\n",
       "        vertical-align: middle;\n",
       "    }\n",
       "\n",
       "    .dataframe tbody tr th {\n",
       "        vertical-align: top;\n",
       "    }\n",
       "\n",
       "    .dataframe thead th {\n",
       "        text-align: right;\n",
       "    }\n",
       "</style>\n",
       "<table border=\"1\" class=\"dataframe\">\n",
       "  <thead>\n",
       "    <tr style=\"text-align: right;\">\n",
       "      <th></th>\n",
       "      <th>area_code</th>\n",
       "      <th>id</th>\n",
       "      <th>outage_duration</th>\n",
       "      <th>source</th>\n",
       "      <th>server_type others_0</th>\n",
       "      <th>server_type others_1</th>\n",
       "      <th>server_type others_2</th>\n",
       "      <th>transit_server_type_10</th>\n",
       "      <th>transit_server_type_11</th>\n",
       "      <th>transit_server_type_13</th>\n",
       "      <th>...</th>\n",
       "      <th>broadband_type_1</th>\n",
       "      <th>broadband_type_10</th>\n",
       "      <th>broadband_type_2</th>\n",
       "      <th>broadband_type_3</th>\n",
       "      <th>broadband_type_4</th>\n",
       "      <th>broadband_type_5</th>\n",
       "      <th>broadband_type_6</th>\n",
       "      <th>broadband_type_7</th>\n",
       "      <th>broadband_type_8</th>\n",
       "      <th>broadband_type_9</th>\n",
       "    </tr>\n",
       "  </thead>\n",
       "  <tbody>\n",
       "    <tr>\n",
       "      <td>0</td>\n",
       "      <td>area_415</td>\n",
       "      <td>13366</td>\n",
       "      <td>1.0</td>\n",
       "      <td>train</td>\n",
       "      <td>0</td>\n",
       "      <td>0</td>\n",
       "      <td>0</td>\n",
       "      <td>0</td>\n",
       "      <td>0</td>\n",
       "      <td>0</td>\n",
       "      <td>...</td>\n",
       "      <td>0</td>\n",
       "      <td>0</td>\n",
       "      <td>1</td>\n",
       "      <td>0</td>\n",
       "      <td>0</td>\n",
       "      <td>0</td>\n",
       "      <td>0</td>\n",
       "      <td>0</td>\n",
       "      <td>0</td>\n",
       "      <td>0</td>\n",
       "    </tr>\n",
       "    <tr>\n",
       "      <td>1</td>\n",
       "      <td>area_474</td>\n",
       "      <td>6783</td>\n",
       "      <td>0.0</td>\n",
       "      <td>train</td>\n",
       "      <td>0</td>\n",
       "      <td>0</td>\n",
       "      <td>0</td>\n",
       "      <td>0</td>\n",
       "      <td>0</td>\n",
       "      <td>0</td>\n",
       "      <td>...</td>\n",
       "      <td>0</td>\n",
       "      <td>0</td>\n",
       "      <td>1</td>\n",
       "      <td>0</td>\n",
       "      <td>0</td>\n",
       "      <td>0</td>\n",
       "      <td>0</td>\n",
       "      <td>0</td>\n",
       "      <td>0</td>\n",
       "      <td>0</td>\n",
       "    </tr>\n",
       "    <tr>\n",
       "      <td>2</td>\n",
       "      <td>area_931</td>\n",
       "      <td>9519</td>\n",
       "      <td>1.0</td>\n",
       "      <td>train</td>\n",
       "      <td>0</td>\n",
       "      <td>0</td>\n",
       "      <td>0</td>\n",
       "      <td>0</td>\n",
       "      <td>0</td>\n",
       "      <td>0</td>\n",
       "      <td>...</td>\n",
       "      <td>0</td>\n",
       "      <td>0</td>\n",
       "      <td>0</td>\n",
       "      <td>0</td>\n",
       "      <td>0</td>\n",
       "      <td>0</td>\n",
       "      <td>0</td>\n",
       "      <td>0</td>\n",
       "      <td>1</td>\n",
       "      <td>0</td>\n",
       "    </tr>\n",
       "    <tr>\n",
       "      <td>3</td>\n",
       "      <td>area_700</td>\n",
       "      <td>10202</td>\n",
       "      <td>1.0</td>\n",
       "      <td>train</td>\n",
       "      <td>0</td>\n",
       "      <td>0</td>\n",
       "      <td>0</td>\n",
       "      <td>0</td>\n",
       "      <td>1</td>\n",
       "      <td>0</td>\n",
       "      <td>...</td>\n",
       "      <td>0</td>\n",
       "      <td>0</td>\n",
       "      <td>0</td>\n",
       "      <td>0</td>\n",
       "      <td>0</td>\n",
       "      <td>0</td>\n",
       "      <td>0</td>\n",
       "      <td>0</td>\n",
       "      <td>1</td>\n",
       "      <td>0</td>\n",
       "    </tr>\n",
       "    <tr>\n",
       "      <td>4</td>\n",
       "      <td>area_600</td>\n",
       "      <td>4555</td>\n",
       "      <td>2.0</td>\n",
       "      <td>train</td>\n",
       "      <td>0</td>\n",
       "      <td>0</td>\n",
       "      <td>0</td>\n",
       "      <td>0</td>\n",
       "      <td>0</td>\n",
       "      <td>0</td>\n",
       "      <td>...</td>\n",
       "      <td>0</td>\n",
       "      <td>0</td>\n",
       "      <td>0</td>\n",
       "      <td>0</td>\n",
       "      <td>0</td>\n",
       "      <td>0</td>\n",
       "      <td>0</td>\n",
       "      <td>0</td>\n",
       "      <td>1</td>\n",
       "      <td>0</td>\n",
       "    </tr>\n",
       "    <tr>\n",
       "      <td>5</td>\n",
       "      <td>area_645</td>\n",
       "      <td>5281</td>\n",
       "      <td>0.0</td>\n",
       "      <td>train</td>\n",
       "      <td>2</td>\n",
       "      <td>0</td>\n",
       "      <td>0</td>\n",
       "      <td>0</td>\n",
       "      <td>0</td>\n",
       "      <td>0</td>\n",
       "      <td>...</td>\n",
       "      <td>0</td>\n",
       "      <td>0</td>\n",
       "      <td>1</td>\n",
       "      <td>0</td>\n",
       "      <td>0</td>\n",
       "      <td>0</td>\n",
       "      <td>0</td>\n",
       "      <td>0</td>\n",
       "      <td>0</td>\n",
       "      <td>0</td>\n",
       "    </tr>\n",
       "    <tr>\n",
       "      <td>6</td>\n",
       "      <td>area_576</td>\n",
       "      <td>1872</td>\n",
       "      <td>0.0</td>\n",
       "      <td>train</td>\n",
       "      <td>0</td>\n",
       "      <td>0</td>\n",
       "      <td>0</td>\n",
       "      <td>0</td>\n",
       "      <td>1</td>\n",
       "      <td>0</td>\n",
       "      <td>...</td>\n",
       "      <td>0</td>\n",
       "      <td>0</td>\n",
       "      <td>0</td>\n",
       "      <td>0</td>\n",
       "      <td>0</td>\n",
       "      <td>0</td>\n",
       "      <td>0</td>\n",
       "      <td>0</td>\n",
       "      <td>1</td>\n",
       "      <td>0</td>\n",
       "    </tr>\n",
       "    <tr>\n",
       "      <td>7</td>\n",
       "      <td>area_734</td>\n",
       "      <td>8729</td>\n",
       "      <td>1.0</td>\n",
       "      <td>train</td>\n",
       "      <td>0</td>\n",
       "      <td>0</td>\n",
       "      <td>0</td>\n",
       "      <td>0</td>\n",
       "      <td>1</td>\n",
       "      <td>0</td>\n",
       "      <td>...</td>\n",
       "      <td>0</td>\n",
       "      <td>0</td>\n",
       "      <td>0</td>\n",
       "      <td>0</td>\n",
       "      <td>0</td>\n",
       "      <td>0</td>\n",
       "      <td>0</td>\n",
       "      <td>0</td>\n",
       "      <td>1</td>\n",
       "      <td>0</td>\n",
       "    </tr>\n",
       "    <tr>\n",
       "      <td>8</td>\n",
       "      <td>area_326</td>\n",
       "      <td>9312</td>\n",
       "      <td>0.0</td>\n",
       "      <td>train</td>\n",
       "      <td>0</td>\n",
       "      <td>0</td>\n",
       "      <td>0</td>\n",
       "      <td>0</td>\n",
       "      <td>0</td>\n",
       "      <td>0</td>\n",
       "      <td>...</td>\n",
       "      <td>0</td>\n",
       "      <td>0</td>\n",
       "      <td>1</td>\n",
       "      <td>0</td>\n",
       "      <td>0</td>\n",
       "      <td>0</td>\n",
       "      <td>0</td>\n",
       "      <td>0</td>\n",
       "      <td>0</td>\n",
       "      <td>0</td>\n",
       "    </tr>\n",
       "    <tr>\n",
       "      <td>9</td>\n",
       "      <td>area_923</td>\n",
       "      <td>14880</td>\n",
       "      <td>0.0</td>\n",
       "      <td>train</td>\n",
       "      <td>0</td>\n",
       "      <td>0</td>\n",
       "      <td>0</td>\n",
       "      <td>0</td>\n",
       "      <td>1</td>\n",
       "      <td>0</td>\n",
       "      <td>...</td>\n",
       "      <td>0</td>\n",
       "      <td>0</td>\n",
       "      <td>0</td>\n",
       "      <td>0</td>\n",
       "      <td>0</td>\n",
       "      <td>0</td>\n",
       "      <td>0</td>\n",
       "      <td>0</td>\n",
       "      <td>1</td>\n",
       "      <td>0</td>\n",
       "    </tr>\n",
       "  </tbody>\n",
       "</table>\n",
       "<p>10 rows × 159 columns</p>\n",
       "</div>"
      ],
      "text/plain": [
       "  area_code     id  outage_duration source  server_type others_0  \\\n",
       "0  area_415  13366              1.0  train                     0   \n",
       "1  area_474   6783              0.0  train                     0   \n",
       "2  area_931   9519              1.0  train                     0   \n",
       "3  area_700  10202              1.0  train                     0   \n",
       "4  area_600   4555              2.0  train                     0   \n",
       "5  area_645   5281              0.0  train                     2   \n",
       "6  area_576   1872              0.0  train                     0   \n",
       "7  area_734   8729              1.0  train                     0   \n",
       "8  area_326   9312              0.0  train                     0   \n",
       "9  area_923  14880              0.0  train                     0   \n",
       "\n",
       "   server_type others_1  server_type others_2  transit_server_type_10  \\\n",
       "0                     0                     0                       0   \n",
       "1                     0                     0                       0   \n",
       "2                     0                     0                       0   \n",
       "3                     0                     0                       0   \n",
       "4                     0                     0                       0   \n",
       "5                     0                     0                       0   \n",
       "6                     0                     0                       0   \n",
       "7                     0                     0                       0   \n",
       "8                     0                     0                       0   \n",
       "9                     0                     0                       0   \n",
       "\n",
       "   transit_server_type_11  transit_server_type_13  ...  broadband_type_1  \\\n",
       "0                       0                       0  ...                 0   \n",
       "1                       0                       0  ...                 0   \n",
       "2                       0                       0  ...                 0   \n",
       "3                       1                       0  ...                 0   \n",
       "4                       0                       0  ...                 0   \n",
       "5                       0                       0  ...                 0   \n",
       "6                       1                       0  ...                 0   \n",
       "7                       1                       0  ...                 0   \n",
       "8                       0                       0  ...                 0   \n",
       "9                       1                       0  ...                 0   \n",
       "\n",
       "   broadband_type_10  broadband_type_2  broadband_type_3  broadband_type_4  \\\n",
       "0                  0                 1                 0                 0   \n",
       "1                  0                 1                 0                 0   \n",
       "2                  0                 0                 0                 0   \n",
       "3                  0                 0                 0                 0   \n",
       "4                  0                 0                 0                 0   \n",
       "5                  0                 1                 0                 0   \n",
       "6                  0                 0                 0                 0   \n",
       "7                  0                 0                 0                 0   \n",
       "8                  0                 1                 0                 0   \n",
       "9                  0                 0                 0                 0   \n",
       "\n",
       "   broadband_type_5  broadband_type_6  broadband_type_7  broadband_type_8  \\\n",
       "0                 0                 0                 0                 0   \n",
       "1                 0                 0                 0                 0   \n",
       "2                 0                 0                 0                 1   \n",
       "3                 0                 0                 0                 1   \n",
       "4                 0                 0                 0                 1   \n",
       "5                 0                 0                 0                 0   \n",
       "6                 0                 0                 0                 1   \n",
       "7                 0                 0                 0                 1   \n",
       "8                 0                 0                 0                 0   \n",
       "9                 0                 0                 0                 1   \n",
       "\n",
       "   broadband_type_9  \n",
       "0                 0  \n",
       "1                 0  \n",
       "2                 0  \n",
       "3                 0  \n",
       "4                 0  \n",
       "5                 0  \n",
       "6                 0  \n",
       "7                 0  \n",
       "8                 0  \n",
       "9                 0  \n",
       "\n",
       "[10 rows x 159 columns]"
      ]
     },
     "metadata": {},
     "output_type": "display_data"
    }
   ],
   "source": [
    "#Below we are applying same calculations discussed above i.e percen and Mode severity\n",
    "broadband_data['broadband_type'].value_counts()\n",
    "broadband_data = broadband_data.merge(data[['id','outage_duration','source']], on='id')\n",
    "broadband_data.head() #bydefault it takes first five rows\n",
    "broadband_data1 = pd.DataFrame(broadband_data['broadband_type'].value_counts())\n",
    "broadband_data1.head()\n",
    "\n",
    "#finding the percentage of broadband contibution\n",
    "broadband_data1['Percen'] = broadband_data.pivot_table(values='source',index='broadband_type',aggfunc=lambda x: sum(x=='train')/float(len(x)))\n",
    "print(broadband_data1.tail(14))\n",
    "\n",
    "# finding the highest outage occured for given broadband data using MODE\n",
    "broadband_data1['Mode_srv'] = broadband_data.loc[broadband_data['source']=='train'].pivot_table(values='outage_duration',index='broadband_type', aggfunc=lambda x: mode(x).mode[0])\n",
    "print(broadband_data1.head(4))\n",
    "\n",
    "#Dummyfying\n",
    "broadband_data_merge = broadband_data.pivot_table(values='source',index='id',columns='broadband_type',aggfunc=lambda x: len(x), fill_value=0)\n",
    "\n",
    "#Merging the broad_band_merge with data\n",
    "data = data.merge(broadband_data_merge, left_on='id', right_index=True)\n",
    "display(data.head(10))"
   ]
  },
  {
   "cell_type": "markdown",
   "metadata": {},
   "source": [
    "#### FEATURE ENGINEERING ON OUTAGE TYPE"
   ]
  },
  {
   "cell_type": "code",
   "execution_count": 70,
   "metadata": {},
   "outputs": [
    {
     "name": "stdout",
     "output_type": "stream",
     "text": [
      "  area_code     id  outage_duration source  server_type others_0  \\\n",
      "0  area_415  13366              1.0  train                     0   \n",
      "1  area_474   6783              0.0  train                     0   \n",
      "2  area_931   9519              1.0  train                     0   \n",
      "3  area_700  10202              1.0  train                     0   \n",
      "4  area_600   4555              2.0  train                     0   \n",
      "5  area_645   5281              0.0  train                     2   \n",
      "6  area_576   1872              0.0  train                     0   \n",
      "\n",
      "   server_type others_1  server_type others_2  transit_server_type_10  \\\n",
      "0                     0                     0                       0   \n",
      "1                     0                     0                       0   \n",
      "2                     0                     0                       0   \n",
      "3                     0                     0                       0   \n",
      "4                     0                     0                       0   \n",
      "5                     0                     0                       0   \n",
      "6                     0                     0                       0   \n",
      "\n",
      "   transit_server_type_11  transit_server_type_13  ...  outage_type 5_x  \\\n",
      "0                       0                       0  ...                0   \n",
      "1                       0                       0  ...                0   \n",
      "2                       0                       0  ...                0   \n",
      "3                       1                       0  ...                0   \n",
      "4                       0                       0  ...                0   \n",
      "5                       0                       0  ...                0   \n",
      "6                       1                       0  ...                0   \n",
      "\n",
      "   outage_type_1_x  outage_type_2_x  outage_type_4_x  outage_type_5_x  \\\n",
      "0                0                0                1                0   \n",
      "1                0                1                0                0   \n",
      "2                0                1                0                0   \n",
      "3                1                0                0                0   \n",
      "4                0                1                0                0   \n",
      "5                1                0                0                0   \n",
      "6                1                0                0                0   \n",
      "\n",
      "   outage_type 5_y  outage_type_1_y  outage_type_2_y  outage_type_4_y  \\\n",
      "0                0                0                0                1   \n",
      "1                0                0                1                0   \n",
      "2                0                0                1                0   \n",
      "3                0                1                0                0   \n",
      "4                0                0                1                0   \n",
      "5                0                1                0                0   \n",
      "6                0                1                0                0   \n",
      "\n",
      "   outage_type_5_y  \n",
      "0                0  \n",
      "1                0  \n",
      "2                0  \n",
      "3                0  \n",
      "4                0  \n",
      "5                0  \n",
      "6                0  \n",
      "\n",
      "[7 rows x 169 columns]\n",
      "(7374, 169)\n"
     ]
    }
   ],
   "source": [
    "outage_data['outage_type'].value_counts()\n",
    "outage_data = outage_data.merge(data[['id','outage_duration','source']], on='id')\n",
    "outage_data1 = pd.DataFrame(outage_data['outage_type'].value_counts())\n",
    "#Determining the % of outage type contribution:\n",
    "outage_data1['Percen'] = outage_data.pivot_table(values='source',index='outage_type',aggfunc=lambda x: sum(x=='train')/float(len(x)))\n",
    "outage_data1.head(7)\n",
    "#Determine the mode of each:\n",
    "outage_data1['Mode_svr'] = outage_data.loc[outage_data['source']=='train'].pivot_table(values='outage_duration',index='outage_type', aggfunc=lambda x: mode(x).mode[0])\n",
    "outage_data.loc[server_data['source']=='train'].pivot_table(values='outage_duration',index='outage_type', aggfunc=lambda x: mode(x))\n",
    "outage_data.loc[outage_data['outage_type']=='outage_type_3','outage_type'] = 'outage_type 5'\n",
    "#DUMMYFYING\n",
    "outage_data_merge = outage_data.pivot_table(values='source',index='id',columns='outage_type',aggfunc=lambda x: len(x), fill_value=0)\n",
    "outage_data_merge.head(6)\n",
    "data = data.merge(outage_data_merge, left_on='id', right_index=True)\n",
    "print(data.head(7))\n",
    "print(data.shape)"
   ]
  },
  {
   "cell_type": "markdown",
   "metadata": {},
   "source": [
    "#### FEATURE ENGINEERING ON AREA CODE"
   ]
  },
  {
   "cell_type": "code",
   "execution_count": 71,
   "metadata": {},
   "outputs": [
    {
     "data": {
      "text/plain": [
       "929"
      ]
     },
     "execution_count": 71,
     "metadata": {},
     "output_type": "execute_result"
    }
   ],
   "source": [
    "areacode_count = data['area_code'].value_counts()\n",
    "data['area_code_count'] = data['area_code'].apply(lambda x: areacode_count[x])\n",
    "len(areacode_count)"
   ]
  },
  {
   "cell_type": "markdown",
   "metadata": {},
   "source": [
    "    Label Encodig on Area Code"
   ]
  },
  {
   "cell_type": "code",
   "execution_count": 72,
   "metadata": {},
   "outputs": [],
   "source": [
    "le = LabelEncoder()\n",
    "data['area_code'] = le.fit_transform(data['area_code'])"
   ]
  },
  {
   "cell_type": "markdown",
   "metadata": {},
   "source": [
    "    Drop the Discard column"
   ]
  },
  {
   "cell_type": "code",
   "execution_count": 73,
   "metadata": {},
   "outputs": [],
   "source": [
    "[x for x in data.columns if 'discard' in x]\n",
    "data.drop(['discard'],axis=1,inplace=True)"
   ]
  },
  {
   "cell_type": "markdown",
   "metadata": {},
   "source": [
    "   PREPARING FOR MODEL BUILDING"
   ]
  },
  {
   "cell_type": "code",
   "execution_count": 74,
   "metadata": {},
   "outputs": [],
   "source": [
    "trainm = data.loc[data['source']=='train']\n",
    "testm = data.loc[data['source']=='test']"
   ]
  },
  {
   "cell_type": "code",
   "execution_count": 75,
   "metadata": {},
   "outputs": [],
   "source": [
    "trainm.drop('source',axis=1,inplace=True)\n",
    "testm.drop(['source','outage_duration'],axis=1,inplace=True)"
   ]
  },
  {
   "cell_type": "code",
   "execution_count": 76,
   "metadata": {},
   "outputs": [
    {
     "name": "stdout",
     "output_type": "stream",
     "text": [
      "(5897, 168)\n",
      "(1477, 167)\n"
     ]
    }
   ],
   "source": [
    "print(trainm.shape)\n",
    "print(testm.shape)"
   ]
  },
  {
   "cell_type": "code",
   "execution_count": 77,
   "metadata": {},
   "outputs": [],
   "source": [
    "#droping the source column\n",
    "train_datas.drop('source',axis=1,inplace=True)\n",
    "test_data.drop('source',axis=1,inplace=True)"
   ]
  },
  {
   "cell_type": "code",
   "execution_count": 78,
   "metadata": {},
   "outputs": [
    {
     "name": "stdout",
     "output_type": "stream",
     "text": [
      "(5897, 167)\n",
      "(5897, 1)\n",
      "(1477, 167)\n"
     ]
    }
   ],
   "source": [
    "#Preparing the train data before splitting \n",
    "train_datax=trainm[trainm.columns[~trainm.columns.isin(['outage_duration'])]]\n",
    "train_datay=trainm[trainm.columns[trainm.columns.isin(['outage_duration'])]]\n",
    "print(train_datax.shape)\n",
    "print(train_datay.shape)\n",
    "print(testm.shape)"
   ]
  },
  {
   "cell_type": "code",
   "execution_count": 79,
   "metadata": {},
   "outputs": [],
   "source": [
    "#Train and Test Split\n",
    "x_train, x_vtest, y_train, y_vtest = train_test_split(train_datax, train_datay, test_size=0.30,random_state=123)"
   ]
  },
  {
   "cell_type": "markdown",
   "metadata": {},
   "source": [
    "#### MODEL BUILDING"
   ]
  },
  {
   "cell_type": "markdown",
   "metadata": {},
   "source": [
    "LOGISTIC REGRESSION"
   ]
  },
  {
   "cell_type": "code",
   "execution_count": 80,
   "metadata": {},
   "outputs": [
    {
     "name": "stdout",
     "output_type": "stream",
     "text": [
      "Accuracy score:  0.6757062146892655\n",
      "Precision score:  0.5202718833769383\n",
      "Recall score: 0.43488986955878195\n",
      "F1 score: 0.42058776175386364\n"
     ]
    }
   ],
   "source": [
    "logistic=LogisticRegression(multi_class='multinomial',random_state=1,solver='lbfgs')\n",
    "logistic.fit(x_train,y_train)\n",
    "y_valid_pred=logistic.predict(x_vtest)\n",
    "\n",
    "from sklearn.metrics import accuracy_score, precision_score, recall_score, f1_score\n",
    "print(\"Accuracy score: \", accuracy_score(y_vtest, y_valid_pred))\n",
    "print(\"Precision score: \", precision_score(y_vtest, y_valid_pred,average='macro'))\n",
    "print(\"Recall score:\", recall_score(y_vtest, y_valid_pred,average='macro'))\n",
    "print(\"F1 score:\", f1_score(y_vtest, y_valid_pred,average='macro'))"
   ]
  },
  {
   "cell_type": "code",
   "execution_count": 81,
   "metadata": {},
   "outputs": [],
   "source": [
    "### PREDICTION ON VALIDATION DATA -FOR F1 SCORE : 42%"
   ]
  },
  {
   "cell_type": "code",
   "execution_count": 82,
   "metadata": {},
   "outputs": [
    {
     "name": "stdout",
     "output_type": "stream",
     "text": [
      "              precision    recall  f1-score   support\n",
      "\n",
      "         0.0       0.69      0.97      0.81      1167\n",
      "         1.0       0.30      0.03      0.06       429\n",
      "         2.0       0.56      0.30      0.40       174\n",
      "\n",
      "    accuracy                           0.68      1770\n",
      "   macro avg       0.52      0.43      0.42      1770\n",
      "weighted avg       0.59      0.68      0.59      1770\n",
      "\n"
     ]
    }
   ],
   "source": [
    "print(classification_report(y_vtest,y_valid_pred))"
   ]
  },
  {
   "cell_type": "markdown",
   "metadata": {},
   "source": [
    "   RANDOM FOREST"
   ]
  },
  {
   "cell_type": "code",
   "execution_count": 83,
   "metadata": {},
   "outputs": [
    {
     "name": "stdout",
     "output_type": "stream",
     "text": [
      "Accuracy score:  0.7559322033898305\n",
      "Precision score:  0.6848228369759908\n",
      "Recall score: 0.6591346287295228\n",
      "F1 score: 0.6698004522771456\n"
     ]
    }
   ],
   "source": [
    "rf_model = RandomForestClassifier(n_estimators=27, n_jobs= -1,random_state=1)\n",
    "rf_model.fit(x_train,y_train)\n",
    "rf_valid_pred=rf_model.predict(x_vtest)\n",
    "\n",
    "from sklearn.metrics import accuracy_score, precision_score, recall_score, f1_score\n",
    "print(\"Accuracy score: \", accuracy_score(y_vtest, rf_valid_pred))\n",
    "print(\"Precision score: \", precision_score(y_vtest, rf_valid_pred,average='macro'))\n",
    "print(\"Recall score:\", recall_score(y_vtest, rf_valid_pred,average='macro'))\n",
    "print(\"F1 score:\", f1_score(y_vtest, rf_valid_pred,average='macro'))"
   ]
  },
  {
   "cell_type": "code",
   "execution_count": 84,
   "metadata": {},
   "outputs": [
    {
     "name": "stdout",
     "output_type": "stream",
     "text": [
      "              precision    recall  f1-score   support\n",
      "\n",
      "         0.0       0.82      0.87      0.84      1167\n",
      "         1.0       0.60      0.49      0.54       429\n",
      "         2.0       0.64      0.61      0.62       174\n",
      "\n",
      "    accuracy                           0.76      1770\n",
      "   macro avg       0.68      0.66      0.67      1770\n",
      "weighted avg       0.75      0.76      0.75      1770\n",
      "\n"
     ]
    }
   ],
   "source": [
    "print(classification_report(y_vtest,rf_valid_pred))"
   ]
  },
  {
   "cell_type": "markdown",
   "metadata": {},
   "source": [
    "   NAIVE BAYES"
   ]
  },
  {
   "cell_type": "code",
   "execution_count": 85,
   "metadata": {},
   "outputs": [
    {
     "name": "stdout",
     "output_type": "stream",
     "text": [
      "Accuracy score:  0.4011299435028249\n",
      "Precision score:  0.5191011997777121\n",
      "Recall score: 0.5885126899221395\n",
      "F1 score: 0.4096040229781928\n"
     ]
    }
   ],
   "source": [
    "nb_model=GaussianNB()\n",
    "nb_model.fit(x_train,y_train)\n",
    "nb_valid_pred=nb_model.predict(x_vtest)\n",
    "\n",
    "print(\"Accuracy score: \", accuracy_score(y_vtest, nb_valid_pred))\n",
    "print(\"Precision score: \", precision_score(y_vtest, nb_valid_pred,average='macro'))\n",
    "print(\"Recall score:\", recall_score(y_vtest, nb_valid_pred,average='macro'))\n",
    "print(\"F1 score:\", f1_score(y_vtest, nb_valid_pred,average='macro'))"
   ]
  },
  {
   "cell_type": "code",
   "execution_count": 86,
   "metadata": {},
   "outputs": [
    {
     "name": "stdout",
     "output_type": "stream",
     "text": [
      "              precision    recall  f1-score   support\n",
      "\n",
      "         0.0       0.96      0.23      0.37      1167\n",
      "         1.0       0.29      0.69      0.41       429\n",
      "         2.0       0.30      0.85      0.45       174\n",
      "\n",
      "    accuracy                           0.40      1770\n",
      "   macro avg       0.52      0.59      0.41      1770\n",
      "weighted avg       0.73      0.40      0.39      1770\n",
      "\n"
     ]
    }
   ],
   "source": [
    "print(classification_report(y_vtest,nb_valid_pred))"
   ]
  },
  {
   "cell_type": "markdown",
   "metadata": {},
   "source": [
    "DECISION TREE"
   ]
  },
  {
   "cell_type": "code",
   "execution_count": 87,
   "metadata": {},
   "outputs": [
    {
     "name": "stdout",
     "output_type": "stream",
     "text": [
      "Accuracy score:  0.715819209039548\n",
      "Precision score:  0.632409458576908\n",
      "Recall score: 0.6219535126103692\n",
      "F1 score: 0.6265738916175451\n"
     ]
    }
   ],
   "source": [
    "dt=tree.DecisionTreeClassifier()\n",
    "dt.fit(x_train,y_train)\n",
    "dt_valid_pred=dt.predict(x_vtest)\n",
    "\n",
    "print(\"Accuracy score: \", accuracy_score(y_vtest, dt_valid_pred))\n",
    "print(\"Precision score: \", precision_score(y_vtest, dt_valid_pred,average='macro'))\n",
    "print(\"Recall score:\", recall_score(y_vtest, dt_valid_pred,average='macro'))\n",
    "print(\"F1 score:\", f1_score(y_vtest, dt_valid_pred,average='macro'))"
   ]
  },
  {
   "cell_type": "code",
   "execution_count": 88,
   "metadata": {},
   "outputs": [
    {
     "name": "stdout",
     "output_type": "stream",
     "text": [
      "              precision    recall  f1-score   support\n",
      "\n",
      "         0.0       0.81      0.81      0.81      1167\n",
      "         1.0       0.52      0.55      0.53       429\n",
      "         2.0       0.57      0.51      0.54       174\n",
      "\n",
      "    accuracy                           0.72      1770\n",
      "   macro avg       0.63      0.62      0.63      1770\n",
      "weighted avg       0.72      0.72      0.72      1770\n",
      "\n"
     ]
    }
   ],
   "source": [
    "print(classification_report(y_vtest,dt_valid_pred))"
   ]
  },
  {
   "cell_type": "markdown",
   "metadata": {},
   "source": [
    "ADABOOST CLASIFIER"
   ]
  },
  {
   "cell_type": "code",
   "execution_count": 89,
   "metadata": {},
   "outputs": [
    {
     "name": "stdout",
     "output_type": "stream",
     "text": [
      "Accuracy score:  0.7468926553672316\n",
      "Precision score:  0.6693186511091797\n",
      "Recall score: 0.6249733532332593\n",
      "F1 score: 0.6392490375000425\n"
     ]
    }
   ],
   "source": [
    "ada=AdaBoostClassifier()\n",
    "ada.fit(x_train,y_train)\n",
    "ada_valid_pred=ada.predict(x_vtest)\n",
    "\n",
    "print(\"Accuracy score: \", accuracy_score(y_vtest, ada_valid_pred))\n",
    "print(\"Precision score: \", precision_score(y_vtest, ada_valid_pred,average='macro'))\n",
    "print(\"Recall score:\", recall_score(y_vtest, ada_valid_pred,average='macro'))\n",
    "print(\"F1 score:\", f1_score(y_vtest, ada_valid_pred,average='macro'))"
   ]
  },
  {
   "cell_type": "code",
   "execution_count": 90,
   "metadata": {},
   "outputs": [
    {
     "name": "stdout",
     "output_type": "stream",
     "text": [
      "              precision    recall  f1-score   support\n",
      "\n",
      "         0.0       0.79      0.90      0.84      1167\n",
      "         1.0       0.61      0.41      0.49       429\n",
      "         2.0       0.60      0.57      0.59       174\n",
      "\n",
      "    accuracy                           0.75      1770\n",
      "   macro avg       0.67      0.62      0.64      1770\n",
      "weighted avg       0.73      0.75      0.73      1770\n",
      "\n"
     ]
    }
   ],
   "source": [
    "print(classification_report(y_vtest,ada_valid_pred))"
   ]
  },
  {
   "cell_type": "markdown",
   "metadata": {},
   "source": [
    "GRADIENT BOOSTING CLASSIFIER"
   ]
  },
  {
   "cell_type": "code",
   "execution_count": 91,
   "metadata": {},
   "outputs": [
    {
     "name": "stdout",
     "output_type": "stream",
     "text": [
      "Accuracy score:  0.7604519774011299\n",
      "Precision score:  0.689159512810854\n",
      "Recall score: 0.6768233293364044\n",
      "F1 score: 0.6725990584146612\n"
     ]
    }
   ],
   "source": [
    "gb=ensemble.GradientBoostingClassifier()\n",
    "gb.fit(x_train,y_train)\n",
    "GB_valid_pred=gb.predict(x_vtest)\n",
    "\n",
    "print(\"Accuracy score: \", accuracy_score(y_vtest, GB_valid_pred))\n",
    "print(\"Precision score: \", precision_score(y_vtest, GB_valid_pred,average='macro'))\n",
    "print(\"Recall score:\", recall_score(y_vtest, GB_valid_pred,average='macro'))\n",
    "print(\"F1 score:\", f1_score(y_vtest, GB_valid_pred,average='macro'))"
   ]
  },
  {
   "cell_type": "code",
   "execution_count": 92,
   "metadata": {},
   "outputs": [
    {
     "name": "stdout",
     "output_type": "stream",
     "text": [
      "              precision    recall  f1-score   support\n",
      "\n",
      "         0.0       0.81      0.89      0.85      1167\n",
      "         1.0       0.64      0.41      0.50       429\n",
      "         2.0       0.62      0.72      0.67       174\n",
      "\n",
      "    accuracy                           0.76      1770\n",
      "   macro avg       0.69      0.68      0.67      1770\n",
      "weighted avg       0.75      0.76      0.75      1770\n",
      "\n"
     ]
    }
   ],
   "source": [
    "print(classification_report(y_vtest,GB_valid_pred))"
   ]
  },
  {
   "cell_type": "markdown",
   "metadata": {},
   "source": [
    "#### PREDITING ON TEST DATA"
   ]
  },
  {
   "cell_type": "code",
   "execution_count": 93,
   "metadata": {},
   "outputs": [],
   "source": [
    "test_data_pred=rf_model.predict(testm)\n",
    "OP=pd.DataFrame(test_data_pred)\n",
    "d_out=test_data.merge(OP,how = 'outer',left_index = True, right_index = True)\n",
    "d_out.columns=[\"id\",\"area_code\",\"outage_duration\"]\n",
    "d_out[[\"id\",\"outage_duration\"]].to_csv(\"Akanksha_B78_RF.csv\",sep=\",\",index=False)"
   ]
  },
  {
   "cell_type": "code",
   "execution_count": 95,
   "metadata": {},
   "outputs": [],
   "source": [
    "#ON THE SAME FILE I TRIED FOR DECISION TREE AND RANDOM FOREST FOR PREDICTION \n",
    "#FOR DECISION TREE THE SCORE WAS 61 AND FOR RANDOM FOREST 64"
   ]
  },
  {
   "cell_type": "code",
   "execution_count": 96,
   "metadata": {},
   "outputs": [],
   "source": [
    "### 3RD ANSWER - I HAVEN'T TRIED NEURAL NETWORKS, IT MAY HELP IN IMPROVING THE DETECTION OF OUTAGE DURATION"
   ]
  },
  {
   "cell_type": "code",
   "execution_count": null,
   "metadata": {},
   "outputs": [],
   "source": []
  }
 ],
 "metadata": {
  "kernelspec": {
   "display_name": "Python 3",
   "language": "python",
   "name": "python3"
  },
  "language_info": {
   "codemirror_mode": {
    "name": "ipython",
    "version": 3
   },
   "file_extension": ".py",
   "mimetype": "text/x-python",
   "name": "python",
   "nbconvert_exporter": "python",
   "pygments_lexer": "ipython3",
   "version": "3.6.5"
  }
 },
 "nbformat": 4,
 "nbformat_minor": 2
}
